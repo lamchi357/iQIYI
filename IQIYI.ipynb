{
 "cells": [
  {
   "cell_type": "code",
   "execution_count": 1,
   "id": "5c504dfc-cd7c-40f3-bb11-ba1ea1a38bab",
   "metadata": {},
   "outputs": [
    {
     "name": "stdout",
     "output_type": "stream",
     "text": [
      "Defaulting to user installation because normal site-packages is not writeable\n",
      "Requirement already satisfied: matplotlib in f:\\installed\\anaconda3\\lib\\site-packages (3.8.0)\n",
      "Requirement already satisfied: contourpy>=1.0.1 in f:\\installed\\anaconda3\\lib\\site-packages (from matplotlib) (1.2.0)\n",
      "Requirement already satisfied: cycler>=0.10 in f:\\installed\\anaconda3\\lib\\site-packages (from matplotlib) (0.11.0)\n",
      "Requirement already satisfied: fonttools>=4.22.0 in f:\\installed\\anaconda3\\lib\\site-packages (from matplotlib) (4.25.0)\n",
      "Requirement already satisfied: kiwisolver>=1.0.1 in f:\\installed\\anaconda3\\lib\\site-packages (from matplotlib) (1.4.4)\n",
      "Requirement already satisfied: numpy<2,>=1.21 in f:\\installed\\anaconda3\\lib\\site-packages (from matplotlib) (1.26.4)\n",
      "Requirement already satisfied: packaging>=20.0 in f:\\installed\\anaconda3\\lib\\site-packages (from matplotlib) (23.1)\n",
      "Requirement already satisfied: pillow>=6.2.0 in f:\\installed\\anaconda3\\lib\\site-packages (from matplotlib) (10.2.0)\n",
      "Requirement already satisfied: pyparsing>=2.3.1 in f:\\installed\\anaconda3\\lib\\site-packages (from matplotlib) (3.0.9)\n",
      "Requirement already satisfied: python-dateutil>=2.7 in f:\\installed\\anaconda3\\lib\\site-packages (from matplotlib) (2.8.2)\n",
      "Requirement already satisfied: six>=1.5 in f:\\installed\\anaconda3\\lib\\site-packages (from python-dateutil>=2.7->matplotlib) (1.16.0)\n",
      "Note: you may need to restart the kernel to use updated packages.\n"
     ]
    }
   ],
   "source": [
    "pip install matplotlib"
   ]
  },
  {
   "cell_type": "code",
   "execution_count": 22,
   "id": "2c0b7657-d22e-4185-b4f1-9ed5c0deb0cf",
   "metadata": {},
   "outputs": [],
   "source": [
    "# Thu vien can thiet\n",
    "import pandas as pd\n",
    "import numpy as np\n",
    "import matplotlib.pyplot as plt\n",
    "%matplotlib inline\n",
    "import matplotlib\n",
    "matplotlib.rcParams[\"figure.figsize\"] = (20,10)"
   ]
  },
  {
   "cell_type": "markdown",
   "id": "cc14c804-de2d-4ae1-82e8-53cdde7cf315",
   "metadata": {},
   "source": [
    "<h1> PART 1: DATA CLEANING <h1>"
   ]
  },
  {
   "cell_type": "code",
   "execution_count": 24,
   "id": "ac72e159-f97c-4b76-ad25-0dbfa702df86",
   "metadata": {},
   "outputs": [
    {
     "data": {
      "text/html": [
       "<div>\n",
       "<style scoped>\n",
       "    .dataframe tbody tr th:only-of-type {\n",
       "        vertical-align: middle;\n",
       "    }\n",
       "\n",
       "    .dataframe tbody tr th {\n",
       "        vertical-align: top;\n",
       "    }\n",
       "\n",
       "    .dataframe thead th {\n",
       "        text-align: right;\n",
       "    }\n",
       "</style>\n",
       "<table border=\"1\" class=\"dataframe\">\n",
       "  <thead>\n",
       "    <tr style=\"text-align: right;\">\n",
       "      <th></th>\n",
       "      <th>movie_title</th>\n",
       "      <th>kind</th>\n",
       "      <th>number_of_rating</th>\n",
       "      <th>rating_score</th>\n",
       "      <th>classification</th>\n",
       "      <th>release_year</th>\n",
       "      <th>duration</th>\n",
       "      <th>country</th>\n",
       "      <th>genre</th>\n",
       "      <th>director</th>\n",
       "      <th>cast</th>\n",
       "    </tr>\n",
       "  </thead>\n",
       "  <tbody>\n",
       "    <tr>\n",
       "      <th>0</th>\n",
       "      <td>Mật Tình Thất Tâm Phần 1</td>\n",
       "      <td>Phim bộ</td>\n",
       "      <td>14000</td>\n",
       "      <td>8.4</td>\n",
       "      <td>T13</td>\n",
       "      <td>2018</td>\n",
       "      <td>12</td>\n",
       "      <td>Trung Quốc đại lục</td>\n",
       "      <td>Lãng Mạn, Tổng Tài Bá Đạo, Thành Thị, Thanh Xuân</td>\n",
       "      <td>Zhang Lu Quan</td>\n",
       "      <td>Luo Bin, Yin Ye Zi, Scarlet, 刘世龙（演员）, Ivan</td>\n",
       "    </tr>\n",
       "    <tr>\n",
       "      <th>1</th>\n",
       "      <td>【Lồng Tiếng】Cửa Hàng Tiện Lợi Saet Byul</td>\n",
       "      <td>Phim bộ</td>\n",
       "      <td>1600</td>\n",
       "      <td>9.4</td>\n",
       "      <td>T13</td>\n",
       "      <td>2020</td>\n",
       "      <td>16</td>\n",
       "      <td>Hàn Quốc</td>\n",
       "      <td>Lãng Mạn, Thành Thị, Thanh Xuân, Tiếng Việt</td>\n",
       "      <td>Myung-woo Lee</td>\n",
       "      <td>Ji Chang Wook, Kim You Jung, Angel Face, Sang-...</td>\n",
       "    </tr>\n",
       "    <tr>\n",
       "      <th>2</th>\n",
       "      <td>Sắc Xanh Lãng Mạn</td>\n",
       "      <td>Phim bộ</td>\n",
       "      <td>4800</td>\n",
       "      <td>9.3</td>\n",
       "      <td>T16</td>\n",
       "      <td>2020</td>\n",
       "      <td>14</td>\n",
       "      <td>Thái Lan</td>\n",
       "      <td>Tội Phạm, Kinh Dị, Hình Sự, Tình Bạn, Thanh Xu...</td>\n",
       "      <td>Ongart Singlumpong</td>\n",
       "      <td>Singto Prachaya Ruangroj, Namtan Tipnaree Weer...</td>\n",
       "    </tr>\n",
       "    <tr>\n",
       "      <th>3</th>\n",
       "      <td>Quy Lộ (Đường Về Nhà)</td>\n",
       "      <td>Phim bộ</td>\n",
       "      <td>56800</td>\n",
       "      <td>9.7</td>\n",
       "      <td>T13</td>\n",
       "      <td>2023</td>\n",
       "      <td>30</td>\n",
       "      <td>Trung Quốc đại lục</td>\n",
       "      <td>Lãng Mạn, Thành Thị, Hôn Nhân, Tiếng Phổ Thông...</td>\n",
       "      <td>Yu Cui Hua</td>\n",
       "      <td>BoranJing, Đàm Tùng Vận, lison, Trương Bách Gi...</td>\n",
       "    </tr>\n",
       "    <tr>\n",
       "      <th>4</th>\n",
       "      <td>Đời Sống Ngục Tù</td>\n",
       "      <td>Phim bộ</td>\n",
       "      <td>8900</td>\n",
       "      <td>9.6</td>\n",
       "      <td>T18</td>\n",
       "      <td>2017</td>\n",
       "      <td>16</td>\n",
       "      <td>Hàn Quốc</td>\n",
       "      <td>Tội Phạm, Tình Tiết, Phim Hài, Tình Bạn, Tiếng...</td>\n",
       "      <td>Shen Yuan Hao</td>\n",
       "      <td>Hae-soo Park, Jung Kyung Ho , Jung Soo Jung, J...</td>\n",
       "    </tr>\n",
       "  </tbody>\n",
       "</table>\n",
       "</div>"
      ],
      "text/plain": [
       "                               movie_title     kind  number_of_rating  \\\n",
       "0                 Mật Tình Thất Tâm Phần 1  Phim bộ             14000   \n",
       "1  【Lồng Tiếng】Cửa Hàng Tiện Lợi Saet Byul  Phim bộ              1600   \n",
       "2                        Sắc Xanh Lãng Mạn  Phim bộ              4800   \n",
       "3                    Quy Lộ (Đường Về Nhà)  Phim bộ             56800   \n",
       "4                         Đời Sống Ngục Tù  Phim bộ              8900   \n",
       "\n",
       "   rating_score classification  release_year  duration             country  \\\n",
       "0           8.4            T13          2018        12  Trung Quốc đại lục   \n",
       "1           9.4            T13          2020        16            Hàn Quốc   \n",
       "2           9.3            T16          2020        14            Thái Lan   \n",
       "3           9.7            T13          2023        30  Trung Quốc đại lục   \n",
       "4           9.6            T18          2017        16            Hàn Quốc   \n",
       "\n",
       "                                               genre            director  \\\n",
       "0   Lãng Mạn, Tổng Tài Bá Đạo, Thành Thị, Thanh Xuân       Zhang Lu Quan   \n",
       "1        Lãng Mạn, Thành Thị, Thanh Xuân, Tiếng Việt       Myung-woo Lee   \n",
       "2  Tội Phạm, Kinh Dị, Hình Sự, Tình Bạn, Thanh Xu...  Ongart Singlumpong   \n",
       "3  Lãng Mạn, Thành Thị, Hôn Nhân, Tiếng Phổ Thông...          Yu Cui Hua   \n",
       "4  Tội Phạm, Tình Tiết, Phim Hài, Tình Bạn, Tiếng...       Shen Yuan Hao   \n",
       "\n",
       "                                                cast  \n",
       "0         Luo Bin, Yin Ye Zi, Scarlet, 刘世龙（演员）, Ivan  \n",
       "1  Ji Chang Wook, Kim You Jung, Angel Face, Sang-...  \n",
       "2  Singto Prachaya Ruangroj, Namtan Tipnaree Weer...  \n",
       "3  BoranJing, Đàm Tùng Vận, lison, Trương Bách Gi...  \n",
       "4  Hae-soo Park, Jung Kyung Ho , Jung Soo Jung, J...  "
      ]
     },
     "execution_count": 24,
     "metadata": {},
     "output_type": "execute_result"
    }
   ],
   "source": [
    "df = pd.read_csv(\"dataIQIYI.csv\")\n",
    "df.head()"
   ]
  },
  {
   "cell_type": "code",
   "execution_count": 25,
   "id": "624daec5-5f7f-44d4-8bed-6904db65303b",
   "metadata": {},
   "outputs": [
    {
     "data": {
      "text/plain": [
       "(1639, 11)"
      ]
     },
     "execution_count": 25,
     "metadata": {},
     "output_type": "execute_result"
    }
   ],
   "source": [
    "#Data co bao nhieu rows, bao nhieu columns\n",
    "df.shape"
   ]
  },
  {
   "cell_type": "code",
   "execution_count": 130,
   "id": "cda6e5de-f6b9-4e24-b321-62de81b92dbe",
   "metadata": {},
   "outputs": [
    {
     "data": {
      "text/plain": [
       "Index(['movie_title', 'kind', 'number_of_rating', 'rating_score',\n",
       "       'classification', 'release_year', 'duration', 'country', 'genre',\n",
       "       'director', 'cast'],\n",
       "      dtype='object')"
      ]
     },
     "execution_count": 130,
     "metadata": {},
     "output_type": "execute_result"
    }
   ],
   "source": [
    "#Nhung columns nao\n",
    "df.columns"
   ]
  },
  {
   "cell_type": "markdown",
   "id": "147fd867-fc51-42ca-89b5-e468df83081e",
   "metadata": {},
   "source": [
    "<h3> MỖI COLUMNS CÓ NHỮNG GIÁ TRỊ GÌ <h3></h3>"
   ]
  },
  {
   "cell_type": "code",
   "execution_count": 26,
   "id": "6d2d5ec4-d96b-49da-b565-c3059689332b",
   "metadata": {},
   "outputs": [
    {
     "data": {
      "text/plain": [
       "movie_title         1613\n",
       "kind                   3\n",
       "number_of_rating     362\n",
       "rating_score          36\n",
       "classification         5\n",
       "release_year          49\n",
       "duration             142\n",
       "country               10\n",
       "genre               1252\n",
       "director             982\n",
       "cast                1316\n",
       "dtype: int64"
      ]
     },
     "execution_count": 26,
     "metadata": {},
     "output_type": "execute_result"
    }
   ],
   "source": [
    "# Check unique values\n",
    "df.nunique()"
   ]
  },
  {
   "cell_type": "code",
   "execution_count": 131,
   "id": "abb854d6-26c8-42d1-937f-223f91c198c9",
   "metadata": {},
   "outputs": [
    {
     "data": {
      "text/plain": [
       "array(['Mật Tình Thất Tâm Phần 1',\n",
       "       '【Lồng Tiếng】Cửa Hàng Tiện Lợi Saet Byul', 'Sắc Xanh Lãng Mạn',\n",
       "       ..., 'Vua Bóng Chuyền Haikyuu - Phần 3',\n",
       "       'Nghe Bảo Cô Định Tán Bố Con Tôi Mùa 4', 'Hội Trưởng Là Hầu Gái'],\n",
       "      dtype=object)"
      ]
     },
     "execution_count": 131,
     "metadata": {},
     "output_type": "execute_result"
    }
   ],
   "source": [
    "# Columns 'movie_title'\n",
    "df['movie_title'].unique()"
   ]
  },
  {
   "cell_type": "code",
   "execution_count": 14,
   "id": "b48530a8-4d68-4092-a462-d80b879d0d9b",
   "metadata": {},
   "outputs": [
    {
     "data": {
      "text/plain": [
       "array(['Phim bộ', 'Phim lẻ', 'Phim hoạt hình'], dtype=object)"
      ]
     },
     "execution_count": 14,
     "metadata": {},
     "output_type": "execute_result"
    }
   ],
   "source": [
    "# Columns 'kind'\n",
    "df['kind'].unique()"
   ]
  },
  {
   "cell_type": "code",
   "execution_count": 15,
   "id": "f8688533-7581-452b-94d5-1a21deaac45a",
   "metadata": {},
   "outputs": [
    {
     "data": {
      "text/plain": [
       "array([ 14000,   1600,   4800,  56800,   8900,   4000,  50000,  11600,\n",
       "        11000,  34000,  22000,   9600,   2000,   1400,   6200,  19100,\n",
       "         8000,  23000,  33900,  36400,   3800,   5500,   3400,  15000,\n",
       "        13000,   6000,   6500,  26000,  16900,   1500,  19600,   5100,\n",
       "         1000,  29800,   1800,  54400,   1200,   8600,  60000,   7700,\n",
       "        35300,   2700,  62700,  10400,   3000,  29000,  68000,  21000,\n",
       "        25500,   9100,  16200,  12100,  13500,  14600,  18700,  88200,\n",
       "         5400,  31100,  76800,   2600,   2100,   2400,   5000,   3300,\n",
       "         3200,   9800,  16300, 262900,   5200,   2500,  20100,  27100,\n",
       "         5700,  21800,   7300,  38600,   4700,  38000,  25300,   1300,\n",
       "        65000,  37600,   9700,  16800,  92000,  40000,  69000, 216700,\n",
       "        51000,  31000,  26300,  12300,  32600,  50200,  75000,   8800,\n",
       "        22300,   3900,  12800,   6700,  20000,   6400,  90000,  17900,\n",
       "        17000,   7900,   9000,   9200,  46000,  17600,  64400,  37000,\n",
       "        67000,  84000,  15300,   5900,   7000,   2200,  53200,   4300,\n",
       "        20300,  24000,   4400,  45300,  47000,  32000,  40200,  78000,\n",
       "        10600,  25100,   8700,   1900,  30000,  36500,  10200,  14800,\n",
       "        23500,   3600,   6100,  35000,  28500,  64099,  27900,   4600,\n",
       "         7600,  47500,   8200,  33000,  52000,  25000,  19000,  13900,\n",
       "        11100, 115100,   8400,  18400,  10300,  23800,  42100,  11700,\n",
       "        17300,  15600,  84900,   4900,   9300,  48500,  43600,   2300,\n",
       "        12000,   2800,   6600,  35600,   3500,   7500,  61100,   4200,\n",
       "        74000,  20600,  15500,  61000,  11800,   5800,   4100,   1700,\n",
       "        44400,  23900,  16000,  73000, 114300,  18000,  82000,  31700,\n",
       "         7400,  33100,  75300,   7200, 151700,  33600,  28300,   2900,\n",
       "        10500,  72500,   1100,  29600,  17100,  11500, 112300,  15200,\n",
       "        10100,  11900,  14300,  21900,  42000,  86000,  25200,  49000,\n",
       "        96000,  12200,  12900,  11300,  29100,  18900,  14200,  13700,\n",
       "         7800,  14500,  54000,  18200,   6900,   6300,  14900,  20800,\n",
       "        28800,  13800,  36000,   3100,   5600,   3700,  59000,  29200,\n",
       "        43900,   9500,  87000,  16100,  57000,  39000,  22400,  20900,\n",
       "        44300,  14100,  11400,  40100,  24100,   9400,   6800,  10000,\n",
       "        17500,  21500,  14400,  13400,  35800,   8300,  13100,   7100,\n",
       "        20500,  29300,  41700,  18100,  66000,  21400,  25900,  57400,\n",
       "        18600,  30200,  47200, 135800,  16700,  48300,  22900,  44000,\n",
       "        82400,  50700, 109800,  10900,  23300,  10700,  84700,  49200,\n",
       "        28000,  80000,  27000,   8100,  43800,  39900,  51400,   4500,\n",
       "        88000,  45000,  17700,  21200,  89000,  55000,  56000,  23600,\n",
       "        86900,  47900, 162900,  12600,  45100, 135700,  41500,  20700,\n",
       "        30400,  33400, 176000, 215900,  68900,  19700,  44500,  13200,\n",
       "        79000,  18800,  27600,  41000,  91000,  97000,  98000,  53000,\n",
       "        63000,  58000,  77000,  71000,  85000,  70000,  81000,  48000,\n",
       "        76000,  62000,  43000,  62300, 160700,  99000,  15800,  93000,\n",
       "        48700,    195,  17200,  38500,  28600,  10800,  44900,  13600,\n",
       "       141500,  54300,  42900,  42300,  52400,  26900,  58300,  55900,\n",
       "        19300,  33500], dtype=int64)"
      ]
     },
     "execution_count": 15,
     "metadata": {},
     "output_type": "execute_result"
    }
   ],
   "source": [
    "# Columns 'number_of_rating'\n",
    "df['number_of_rating'].unique()"
   ]
  },
  {
   "cell_type": "code",
   "execution_count": 24,
   "id": "16c9bb11-5359-4eba-943a-e4ce779ed4f6",
   "metadata": {},
   "outputs": [
    {
     "data": {
      "text/plain": [
       "array([ 8.4,  9.4,  9.3,  9.7,  9.6,  9.2,  9. ,  8.6,  9.1,  8. ,  9.5,\n",
       "        8.2,  8.8,  8.5,  8.7,  8.9,  7.6,  9.8,  9.9,  8.1,  7.8,  7.9,\n",
       "       10. ,  8.3,  7.7,  7.3,  7.2,  6.5,  7.1,  7.5,  6. ,  6.2,  6.8,\n",
       "        7.4,  7. ,  6.7])"
      ]
     },
     "execution_count": 24,
     "metadata": {},
     "output_type": "execute_result"
    }
   ],
   "source": [
    "#Columns 'rating_score'\n",
    "df['rating_score'].unique()"
   ]
  },
  {
   "cell_type": "code",
   "execution_count": 26,
   "id": "f3d75a6e-1b09-41cd-989c-c261d51800bf",
   "metadata": {},
   "outputs": [
    {
     "data": {
      "text/plain": [
       "array(['Lãng Mạn, Tổng Tài Bá Đạo, Thành Thị, Thanh Xuân',\n",
       "       'Lãng Mạn, Thành Thị, Thanh Xuân, Tiếng Việt',\n",
       "       'Tội Phạm, Kinh Dị, Hình Sự, Tình Bạn, Thanh Xuân, Gia Đình', ...,\n",
       "       'Tiếng Nhật, Trường Học',\n",
       "       'Tiếng Nhật, Cảm Hứng, Khoa Học Viễn Tưởng',\n",
       "       'Thiếu niên, Tiếng Nhật, Viễn Tưởng, Nhiệt Huyết, Tình Yêu, Tiểu thuyết ngắn cải biên'],\n",
       "      dtype=object)"
      ]
     },
     "execution_count": 26,
     "metadata": {},
     "output_type": "execute_result"
    }
   ],
   "source": [
    "#Columns 'genre'\n",
    "df['genre'].unique()"
   ]
  },
  {
   "cell_type": "code",
   "execution_count": 5,
   "id": "a48b7300-c5ee-4616-8694-de2bc3de5ad4",
   "metadata": {},
   "outputs": [
    {
     "data": {
      "text/plain": [
       "array(['T13', 'T16', 'T18', 'P', 'K'], dtype=object)"
      ]
     },
     "execution_count": 5,
     "metadata": {},
     "output_type": "execute_result"
    }
   ],
   "source": [
    "#Columns 'classification'\n",
    "df['classification'].unique()"
   ]
  },
  {
   "cell_type": "code",
   "execution_count": 6,
   "id": "1cb59e39",
   "metadata": {},
   "outputs": [
    {
     "data": {
      "text/plain": [
       "array([2018, 2020, 2023, 2017, 2016, 2019, 2015, 2024, 2022, 2009, 2021,\n",
       "       2013, 2012, 2011, 2014, 2010, 2004, 2008, 2005, 2006, 1991, 1984,\n",
       "       1976, 1975, 1959, 1999, 2007, 1987, 1988, 1974, 1995, 1990, 1996,\n",
       "       1972, 1992, 1993, 1983, 1994, 2002, 2003, 1982, 1997, 2000, 2001,\n",
       "       1985, 1977, 1986, 1979, 1989], dtype=int64)"
      ]
     },
     "execution_count": 6,
     "metadata": {},
     "output_type": "execute_result"
    }
   ],
   "source": [
    "#Columns 'release_year'\n",
    "df['release_year'].unique()"
   ]
  },
  {
   "cell_type": "code",
   "execution_count": 141,
   "id": "7e297e51",
   "metadata": {},
   "outputs": [
    {
     "data": {
      "text/plain": [
       "array(['Trung Quốc đại lục', 'Hàn Quốc', 'Thái Lan', 'Malaysia',\n",
       "       'Đài Loan', 'Nhật Bản', 'Philippines', 'Mỹ', 'Anh', 'Hồng Kông'],\n",
       "      dtype=object)"
      ]
     },
     "execution_count": 141,
     "metadata": {},
     "output_type": "execute_result"
    }
   ],
   "source": [
    "#Columns 'country'\n",
    "df['country'].unique()"
   ]
  },
  {
   "cell_type": "markdown",
   "id": "6af64437-9aa2-4cca-9907-65ae09680661",
   "metadata": {},
   "source": [
    "<h3> DATA CLEANING: XÓA CÁC TỪ KHÓA NGÔN NGỮ Ở CỘT GENRE & XỬ LÝ CÁC GIÁ TRỊ NA <h3>"
   ]
  },
  {
   "cell_type": "code",
   "execution_count": 27,
   "id": "9fda06c7-e4db-4fc0-bf0b-0d196f999cba",
   "metadata": {},
   "outputs": [],
   "source": [
    "#Xóa các từ khóa ngôn ngữ ở cột genre\n",
    "df['genre'] = df['genre'].str.replace(r'(Thái Lan|Tiếng Việt|Tiếng Hàn|Tiếng Thái|Tiếng Mã Lai|Tiếng Phổ Thông|Tiếng Nhật|Tiếng Philippines|Tiếng Anh|Tiếng Hồng Kông|Tiếng Quảng Đông)', '', regex=True)\n",
    "df['genre'] = df['genre'].str.replace(r'(\\s*,\\s*,\\s*)', ', ', regex=True)  # Xóa một trong hai dấu ',' liên tiếp và khoảng trắng xung quanh\n",
    "df['genre'] = df['genre'].str.strip(', ')  # Xóa dấu ',' và khoảng trắng ở đầu và cuối chuỗi\n",
    "df.to_csv(\"dataIQIYI.csv\")"
   ]
  },
  {
   "cell_type": "code",
   "execution_count": 28,
   "id": "26352179-1f3e-4817-84a1-66fca027a5ca",
   "metadata": {},
   "outputs": [],
   "source": [
    "#Đổi tên dataframe mới, Thêm index_col = 0 để chỉ định cột index cụ thể khi đọc và không tạo infex mới khi đọc file\n",
    "df1 = pd.read_csv(\"dataIQIYI.csv\", index_col=0)"
   ]
  },
  {
   "cell_type": "code",
   "execution_count": 29,
   "id": "41f6c5ec-d564-4b34-bfab-3b822e9cd809",
   "metadata": {},
   "outputs": [
    {
     "data": {
      "text/plain": [
       "(1639, 11)"
      ]
     },
     "execution_count": 29,
     "metadata": {},
     "output_type": "execute_result"
    }
   ],
   "source": [
    "#Xem số dòng, số cột trước khi xóa\n",
    "df1.shape"
   ]
  },
  {
   "cell_type": "code",
   "execution_count": 30,
   "id": "c704bb3a-edda-4816-8d60-5baf272c1c4c",
   "metadata": {},
   "outputs": [
    {
     "data": {
      "text/plain": [
       "(1622, 11)"
      ]
     },
     "execution_count": 30,
     "metadata": {},
     "output_type": "execute_result"
    }
   ],
   "source": [
    "df1 = df1.dropna(subset = ['genre']) #Xóa các dòng null ở cột genre\n",
    "df1.to_csv(\"dataIQIYI.csv\") \n",
    "#Xem số dòng, số cột sau khi xóa\n",
    "df1.shape"
   ]
  },
  {
   "cell_type": "markdown",
   "id": "cfe42a50-89d2-4d63-a154-ed8d5de33512",
   "metadata": {},
   "source": [
    "<h3> XỬ LÝ GIÁ TRỊ DUPLICATE <h3>"
   ]
  },
  {
   "cell_type": "code",
   "execution_count": 31,
   "id": "04e18c0a-f830-4c43-aeec-bed0a3ef85a2",
   "metadata": {},
   "outputs": [
    {
     "data": {
      "text/plain": [
       "(1622, 11)"
      ]
     },
     "execution_count": 31,
     "metadata": {},
     "output_type": "execute_result"
    }
   ],
   "source": [
    "df2 = df1.copy()\n",
    "#Xem số dòng, số cột trước khi xóa\n",
    "df2.shape"
   ]
  },
  {
   "cell_type": "code",
   "execution_count": 32,
   "id": "57da4df1",
   "metadata": {},
   "outputs": [
    {
     "data": {
      "text/plain": [
       "(1611, 11)"
      ]
     },
     "execution_count": 32,
     "metadata": {},
     "output_type": "execute_result"
    }
   ],
   "source": [
    "#Xóa các dòng duplicates\n",
    "df2.drop_duplicates(inplace=True)\n",
    "df2.shape #xem lại số dòng, số cột sau khi xóa"
   ]
  },
  {
   "cell_type": "code",
   "execution_count": 33,
   "id": "1e83abcc-9036-47b1-8465-dbc3a319645f",
   "metadata": {},
   "outputs": [],
   "source": [
    "#Thay thế \"Trung Quốc đại lục\" ở cột country thành \"Trung Quốc\"\n",
    "df2['country'] = df2['country'].str.replace(r'(Trung Quốc đại lục)', 'Trung Quốc',regex = True)\n",
    "df2.to_csv(\"dataIQIYI.csv\") "
   ]
  },
  {
   "cell_type": "markdown",
   "id": "c755bfe1-a3c2-4dbf-b44f-eb968ce4b257",
   "metadata": {},
   "source": [
    "<h3> GIẢM CHIỀU DỮ LIỆU <h3>"
   ]
  },
  {
   "cell_type": "code",
   "execution_count": 36,
   "id": "2469844f-3b09-4a5a-8980-6716e7cd1cb3",
   "metadata": {},
   "outputs": [
    {
     "data": {
      "text/html": [
       "<div>\n",
       "<style scoped>\n",
       "    .dataframe tbody tr th:only-of-type {\n",
       "        vertical-align: middle;\n",
       "    }\n",
       "\n",
       "    .dataframe tbody tr th {\n",
       "        vertical-align: top;\n",
       "    }\n",
       "\n",
       "    .dataframe thead th {\n",
       "        text-align: right;\n",
       "    }\n",
       "</style>\n",
       "<table border=\"1\" class=\"dataframe\">\n",
       "  <thead>\n",
       "    <tr style=\"text-align: right;\">\n",
       "      <th></th>\n",
       "      <th>movie_title</th>\n",
       "      <th>kind</th>\n",
       "      <th>number_of_rating</th>\n",
       "      <th>rating_score</th>\n",
       "      <th>classification</th>\n",
       "      <th>release_year</th>\n",
       "      <th>duration</th>\n",
       "      <th>country</th>\n",
       "      <th>genre</th>\n",
       "      <th>director</th>\n",
       "      <th>cast</th>\n",
       "    </tr>\n",
       "  </thead>\n",
       "  <tbody>\n",
       "    <tr>\n",
       "      <th>0</th>\n",
       "      <td>Mật Tình Thất Tâm Phần 1</td>\n",
       "      <td>Phim bộ</td>\n",
       "      <td>14000</td>\n",
       "      <td>8.4</td>\n",
       "      <td>T13</td>\n",
       "      <td>2018</td>\n",
       "      <td>12</td>\n",
       "      <td>Trung Quốc</td>\n",
       "      <td>Lãng Mạn, Tổng Tài Bá Đạo, Thành Thị, Thanh Xuân</td>\n",
       "      <td>Zhang Lu Quan</td>\n",
       "      <td>Luo Bin, Yin Ye Zi, Scarlet, 刘世龙（演员）, Ivan</td>\n",
       "    </tr>\n",
       "    <tr>\n",
       "      <th>1</th>\n",
       "      <td>【Lồng Tiếng】Cửa Hàng Tiện Lợi Saet Byul</td>\n",
       "      <td>Phim bộ</td>\n",
       "      <td>1600</td>\n",
       "      <td>9.4</td>\n",
       "      <td>T13</td>\n",
       "      <td>2020</td>\n",
       "      <td>16</td>\n",
       "      <td>Hàn Quốc</td>\n",
       "      <td>Lãng Mạn, Thành Thị, Thanh Xuân</td>\n",
       "      <td>Myung-woo Lee</td>\n",
       "      <td>Ji Chang Wook, Kim You Jung, Angel Face, Sang-...</td>\n",
       "    </tr>\n",
       "    <tr>\n",
       "      <th>2</th>\n",
       "      <td>Sắc Xanh Lãng Mạn</td>\n",
       "      <td>Phim bộ</td>\n",
       "      <td>4800</td>\n",
       "      <td>9.3</td>\n",
       "      <td>T16</td>\n",
       "      <td>2020</td>\n",
       "      <td>14</td>\n",
       "      <td>Thái Lan</td>\n",
       "      <td>Tội Phạm, Kinh Dị, Hình Sự, Tình Bạn, Thanh Xu...</td>\n",
       "      <td>Ongart Singlumpong</td>\n",
       "      <td>Singto Prachaya Ruangroj, Namtan Tipnaree Weer...</td>\n",
       "    </tr>\n",
       "    <tr>\n",
       "      <th>3</th>\n",
       "      <td>Quy Lộ (Đường Về Nhà)</td>\n",
       "      <td>Phim bộ</td>\n",
       "      <td>56800</td>\n",
       "      <td>9.7</td>\n",
       "      <td>T13</td>\n",
       "      <td>2023</td>\n",
       "      <td>30</td>\n",
       "      <td>Trung Quốc</td>\n",
       "      <td>Lãng Mạn, Thành Thị, Hôn Nhân, Tiểu Thuyết Chu...</td>\n",
       "      <td>Yu Cui Hua</td>\n",
       "      <td>BoranJing, Đàm Tùng Vận, lison, Trương Bách Gi...</td>\n",
       "    </tr>\n",
       "    <tr>\n",
       "      <th>4</th>\n",
       "      <td>Đời Sống Ngục Tù</td>\n",
       "      <td>Phim bộ</td>\n",
       "      <td>8900</td>\n",
       "      <td>9.6</td>\n",
       "      <td>T18</td>\n",
       "      <td>2017</td>\n",
       "      <td>16</td>\n",
       "      <td>Hàn Quốc</td>\n",
       "      <td>Tội Phạm, Tình Tiết, Phim Hài, Tình Bạn</td>\n",
       "      <td>Shen Yuan Hao</td>\n",
       "      <td>Hae-soo Park, Jung Kyung Ho , Jung Soo Jung, J...</td>\n",
       "    </tr>\n",
       "  </tbody>\n",
       "</table>\n",
       "</div>"
      ],
      "text/plain": [
       "                               movie_title     kind  number_of_rating  \\\n",
       "0                 Mật Tình Thất Tâm Phần 1  Phim bộ             14000   \n",
       "1  【Lồng Tiếng】Cửa Hàng Tiện Lợi Saet Byul  Phim bộ              1600   \n",
       "2                        Sắc Xanh Lãng Mạn  Phim bộ              4800   \n",
       "3                    Quy Lộ (Đường Về Nhà)  Phim bộ             56800   \n",
       "4                         Đời Sống Ngục Tù  Phim bộ              8900   \n",
       "\n",
       "   rating_score classification  release_year  duration     country  \\\n",
       "0           8.4            T13          2018        12  Trung Quốc   \n",
       "1           9.4            T13          2020        16    Hàn Quốc   \n",
       "2           9.3            T16          2020        14    Thái Lan   \n",
       "3           9.7            T13          2023        30  Trung Quốc   \n",
       "4           9.6            T18          2017        16    Hàn Quốc   \n",
       "\n",
       "                                               genre            director  \\\n",
       "0   Lãng Mạn, Tổng Tài Bá Đạo, Thành Thị, Thanh Xuân       Zhang Lu Quan   \n",
       "1                    Lãng Mạn, Thành Thị, Thanh Xuân       Myung-woo Lee   \n",
       "2  Tội Phạm, Kinh Dị, Hình Sự, Tình Bạn, Thanh Xu...  Ongart Singlumpong   \n",
       "3  Lãng Mạn, Thành Thị, Hôn Nhân, Tiểu Thuyết Chu...          Yu Cui Hua   \n",
       "4            Tội Phạm, Tình Tiết, Phim Hài, Tình Bạn       Shen Yuan Hao   \n",
       "\n",
       "                                                cast  \n",
       "0         Luo Bin, Yin Ye Zi, Scarlet, 刘世龙（演员）, Ivan  \n",
       "1  Ji Chang Wook, Kim You Jung, Angel Face, Sang-...  \n",
       "2  Singto Prachaya Ruangroj, Namtan Tipnaree Weer...  \n",
       "3  BoranJing, Đàm Tùng Vận, lison, Trương Bách Gi...  \n",
       "4  Hae-soo Park, Jung Kyung Ho , Jung Soo Jung, J...  "
      ]
     },
     "execution_count": 36,
     "metadata": {},
     "output_type": "execute_result"
    }
   ],
   "source": [
    "df3 = pd.read_csv(\"dataIQIYI.csv\", index_col=0)\n",
    "df3.head()"
   ]
  },
  {
   "cell_type": "code",
   "execution_count": 37,
   "id": "968366a4-b450-4985-93f7-671ee285079f",
   "metadata": {},
   "outputs": [
    {
     "data": {
      "text/plain": [
       "country\n",
       "Trung Quốc     1127\n",
       "Hàn Quốc        214\n",
       "Nhật Bản        168\n",
       "Thái Lan         64\n",
       "Đài Loan         13\n",
       "Hồng Kông        13\n",
       "Malaysia          6\n",
       "Mỹ                3\n",
       "Philippines       2\n",
       "Anh               1\n",
       "Name: count, dtype: int64"
      ]
     },
     "execution_count": 37,
     "metadata": {},
     "output_type": "execute_result"
    }
   ],
   "source": [
    "#Xem xét feature country. Áp dụng kỹ thuật dimensionality reduction để giảm số lượng country\n",
    "df3.country = df3.country.apply(lambda x: x.strip())\n",
    "country_each = df3['country'].value_counts(ascending=False)\n",
    "country_each"
   ]
  },
  {
   "cell_type": "code",
   "execution_count": 38,
   "id": "00e4a16c-71a5-4222-877c-5ff7a3807cf5",
   "metadata": {},
   "outputs": [
    {
     "data": {
      "text/plain": [
       "1611"
      ]
     },
     "execution_count": 38,
     "metadata": {},
     "output_type": "execute_result"
    }
   ],
   "source": [
    "#Tổng số dòng dữ liệu của feature \"country\"\n",
    "country_each.values.sum()"
   ]
  },
  {
   "cell_type": "code",
   "execution_count": 39,
   "id": "852afce1-2374-42bd-a976-551d961890e3",
   "metadata": {},
   "outputs": [
    {
     "data": {
      "text/plain": [
       "10"
      ]
     },
     "execution_count": 39,
     "metadata": {},
     "output_type": "execute_result"
    }
   ],
   "source": [
    "#Đếm xem có bao nhiêu nước\n",
    "len(country_each)"
   ]
  },
  {
   "cell_type": "code",
   "execution_count": 40,
   "id": "39103a80-fb0d-4bdf-90ff-cbb528f51e53",
   "metadata": {},
   "outputs": [
    {
     "data": {
      "text/plain": [
       "6"
      ]
     },
     "execution_count": 40,
     "metadata": {},
     "output_type": "execute_result"
    }
   ],
   "source": [
    "#Số nước có (xuất hiện) trên 10 điểm dữ liệu\n",
    "len(country_each[country_each>10])"
   ]
  },
  {
   "cell_type": "code",
   "execution_count": 41,
   "id": "f8476da2-b5fb-4a95-bb70-bb0cb688fa2a",
   "metadata": {},
   "outputs": [
    {
     "data": {
      "text/plain": [
       "country\n",
       "Malaysia       6\n",
       "Mỹ             3\n",
       "Philippines    2\n",
       "Anh            1\n",
       "Name: count, dtype: int64"
      ]
     },
     "execution_count": 41,
     "metadata": {},
     "output_type": "execute_result"
    }
   ],
   "source": [
    "#Những nước có ít hơn hoặc bằng 10 điểm dữ liệu\n",
    "country_less_than_10 = country_each[country_each<=10]\n",
    "country_less_than_10"
   ]
  },
  {
   "cell_type": "code",
   "execution_count": 52,
   "id": "d2ab0191-6bf8-4cee-994b-a480c40747a9",
   "metadata": {},
   "outputs": [],
   "source": [
    "#Thay thế những điểm dữ liệu của \"country\" nào ít hơn bằng 10 bằng tag \"other\"\n",
    "df3.country = df3.country.apply(lambda x: 'other' if x in country_less_than_10 else x)\n",
    "df3.to_csv(\"dataIQIYI.csv\") "
   ]
  },
  {
   "cell_type": "code",
   "execution_count": 53,
   "id": "290f11b9-31b7-44d9-8ab1-b7fb66430d4f",
   "metadata": {},
   "outputs": [
    {
     "data": {
      "text/plain": [
       "array(['Trung Quốc', 'Hàn Quốc', 'Thái Lan', 'other', 'Đài Loan',\n",
       "       'Nhật Bản', 'Hồng Kông'], dtype=object)"
      ]
     },
     "execution_count": 53,
     "metadata": {},
     "output_type": "execute_result"
    }
   ],
   "source": [
    "#Các giá trị duy nhất trong \"country\" sau khi thay thế\n",
    "df3['country'].unique()"
   ]
  },
  {
   "cell_type": "code",
   "execution_count": 54,
   "id": "6adb20ec-3fcc-414a-902e-bbde3726611c",
   "metadata": {},
   "outputs": [
    {
     "data": {
      "text/html": [
       "<div>\n",
       "<style scoped>\n",
       "    .dataframe tbody tr th:only-of-type {\n",
       "        vertical-align: middle;\n",
       "    }\n",
       "\n",
       "    .dataframe tbody tr th {\n",
       "        vertical-align: top;\n",
       "    }\n",
       "\n",
       "    .dataframe thead th {\n",
       "        text-align: right;\n",
       "    }\n",
       "</style>\n",
       "<table border=\"1\" class=\"dataframe\">\n",
       "  <thead>\n",
       "    <tr style=\"text-align: right;\">\n",
       "      <th></th>\n",
       "      <th>movie_title</th>\n",
       "      <th>kind</th>\n",
       "      <th>number_of_rating</th>\n",
       "      <th>rating_score</th>\n",
       "      <th>classification</th>\n",
       "      <th>release_year</th>\n",
       "      <th>duration</th>\n",
       "      <th>country</th>\n",
       "      <th>genre</th>\n",
       "      <th>director</th>\n",
       "      <th>cast</th>\n",
       "    </tr>\n",
       "  </thead>\n",
       "  <tbody>\n",
       "    <tr>\n",
       "      <th>0</th>\n",
       "      <td>Mật Tình Thất Tâm Phần 1</td>\n",
       "      <td>Phim bộ</td>\n",
       "      <td>14000</td>\n",
       "      <td>8.4</td>\n",
       "      <td>T13</td>\n",
       "      <td>2018</td>\n",
       "      <td>12</td>\n",
       "      <td>Trung Quốc</td>\n",
       "      <td>Lãng Mạn, Tổng Tài Bá Đạo, Thành Thị, Thanh Xuân</td>\n",
       "      <td>Zhang Lu Quan</td>\n",
       "      <td>Luo Bin, Yin Ye Zi, Scarlet, 刘世龙（演员）, Ivan</td>\n",
       "    </tr>\n",
       "    <tr>\n",
       "      <th>1</th>\n",
       "      <td>【Lồng Tiếng】Cửa Hàng Tiện Lợi Saet Byul</td>\n",
       "      <td>Phim bộ</td>\n",
       "      <td>1600</td>\n",
       "      <td>9.4</td>\n",
       "      <td>T13</td>\n",
       "      <td>2020</td>\n",
       "      <td>16</td>\n",
       "      <td>Hàn Quốc</td>\n",
       "      <td>Lãng Mạn, Thành Thị, Thanh Xuân</td>\n",
       "      <td>Myung-woo Lee</td>\n",
       "      <td>Ji Chang Wook, Kim You Jung, Angel Face, Sang-...</td>\n",
       "    </tr>\n",
       "    <tr>\n",
       "      <th>2</th>\n",
       "      <td>Sắc Xanh Lãng Mạn</td>\n",
       "      <td>Phim bộ</td>\n",
       "      <td>4800</td>\n",
       "      <td>9.3</td>\n",
       "      <td>T16</td>\n",
       "      <td>2020</td>\n",
       "      <td>14</td>\n",
       "      <td>Thái Lan</td>\n",
       "      <td>Tội Phạm, Kinh Dị, Hình Sự, Tình Bạn, Thanh Xu...</td>\n",
       "      <td>Ongart Singlumpong</td>\n",
       "      <td>Singto Prachaya Ruangroj, Namtan Tipnaree Weer...</td>\n",
       "    </tr>\n",
       "    <tr>\n",
       "      <th>3</th>\n",
       "      <td>Quy Lộ (Đường Về Nhà)</td>\n",
       "      <td>Phim bộ</td>\n",
       "      <td>56800</td>\n",
       "      <td>9.7</td>\n",
       "      <td>T13</td>\n",
       "      <td>2023</td>\n",
       "      <td>30</td>\n",
       "      <td>Trung Quốc</td>\n",
       "      <td>Lãng Mạn, Thành Thị, Hôn Nhân, Tiểu Thuyết Chu...</td>\n",
       "      <td>Yu Cui Hua</td>\n",
       "      <td>BoranJing, Đàm Tùng Vận, lison, Trương Bách Gi...</td>\n",
       "    </tr>\n",
       "    <tr>\n",
       "      <th>4</th>\n",
       "      <td>Đời Sống Ngục Tù</td>\n",
       "      <td>Phim bộ</td>\n",
       "      <td>8900</td>\n",
       "      <td>9.6</td>\n",
       "      <td>T18</td>\n",
       "      <td>2017</td>\n",
       "      <td>16</td>\n",
       "      <td>Hàn Quốc</td>\n",
       "      <td>Tội Phạm, Tình Tiết, Phim Hài, Tình Bạn</td>\n",
       "      <td>Shen Yuan Hao</td>\n",
       "      <td>Hae-soo Park, Jung Kyung Ho , Jung Soo Jung, J...</td>\n",
       "    </tr>\n",
       "  </tbody>\n",
       "</table>\n",
       "</div>"
      ],
      "text/plain": [
       "                               movie_title     kind  number_of_rating  \\\n",
       "0                 Mật Tình Thất Tâm Phần 1  Phim bộ             14000   \n",
       "1  【Lồng Tiếng】Cửa Hàng Tiện Lợi Saet Byul  Phim bộ              1600   \n",
       "2                        Sắc Xanh Lãng Mạn  Phim bộ              4800   \n",
       "3                    Quy Lộ (Đường Về Nhà)  Phim bộ             56800   \n",
       "4                         Đời Sống Ngục Tù  Phim bộ              8900   \n",
       "\n",
       "   rating_score classification  release_year  duration     country  \\\n",
       "0           8.4            T13          2018        12  Trung Quốc   \n",
       "1           9.4            T13          2020        16    Hàn Quốc   \n",
       "2           9.3            T16          2020        14    Thái Lan   \n",
       "3           9.7            T13          2023        30  Trung Quốc   \n",
       "4           9.6            T18          2017        16    Hàn Quốc   \n",
       "\n",
       "                                               genre            director  \\\n",
       "0   Lãng Mạn, Tổng Tài Bá Đạo, Thành Thị, Thanh Xuân       Zhang Lu Quan   \n",
       "1                    Lãng Mạn, Thành Thị, Thanh Xuân       Myung-woo Lee   \n",
       "2  Tội Phạm, Kinh Dị, Hình Sự, Tình Bạn, Thanh Xu...  Ongart Singlumpong   \n",
       "3  Lãng Mạn, Thành Thị, Hôn Nhân, Tiểu Thuyết Chu...          Yu Cui Hua   \n",
       "4            Tội Phạm, Tình Tiết, Phim Hài, Tình Bạn       Shen Yuan Hao   \n",
       "\n",
       "                                                cast  \n",
       "0         Luo Bin, Yin Ye Zi, Scarlet, 刘世龙（演员）, Ivan  \n",
       "1  Ji Chang Wook, Kim You Jung, Angel Face, Sang-...  \n",
       "2  Singto Prachaya Ruangroj, Namtan Tipnaree Weer...  \n",
       "3  BoranJing, Đàm Tùng Vận, lison, Trương Bách Gi...  \n",
       "4  Hae-soo Park, Jung Kyung Ho , Jung Soo Jung, J...  "
      ]
     },
     "execution_count": 54,
     "metadata": {},
     "output_type": "execute_result"
    }
   ],
   "source": [
    "df3.head()"
   ]
  },
  {
   "cell_type": "markdown",
   "id": "d9c7fb74-5c76-41ea-9659-13ef81937ed7",
   "metadata": {},
   "source": [
    "<h3> TRỰC QUAN HOÁ DỮ LIỆU <h3>\n"
   ]
  },
  {
   "cell_type": "code",
   "execution_count": 61,
   "id": "c312274e-02c2-40ec-aa94-ac98be251b06",
   "metadata": {},
   "outputs": [],
   "source": [
    "import seaborn as sns\n",
    "df4 = df3.copy()"
   ]
  },
  {
   "cell_type": "code",
   "execution_count": 67,
   "id": "c1f65115-2cde-4da6-8c83-b8268b14a304",
   "metadata": {},
   "outputs": [
    {
     "data": {
      "text/plain": [
       "Text(0.5, 1.0, 'Kind')"
      ]
     },
     "execution_count": 67,
     "metadata": {},
     "output_type": "execute_result"
    },
    {
     "data": {
      "image/png": "[encoded data removed]",
      "text/plain": [
       "<Figure size 1000x1000 with 1 Axes>"
      ]
     },
     "metadata": {},
     "output_type": "display_data"
    }
   ],
   "source": [
    "#Số lượng phim của từng thể loại: phim bộ, phim lẻ, phim hoạt hình\n",
    "sns.countplot(x='kind',data = df4)\n",
    "fig = plt.gcf()\n",
    "fig.set_size_inches(10,10)\n",
    "plt.title('Kind')"
   ]
  },
  {
   "cell_type": "code",
   "execution_count": 74,
   "id": "a3451d1b-95ee-4001-abd9-41dd92b501fa",
   "metadata": {},
   "outputs": [
    {
     "data": {
      "text/plain": [
       "<Figure size 1200x800 with 0 Axes>"
      ]
     },
     "execution_count": 74,
     "metadata": {},
     "output_type": "execute_result"
    },
    {
     "data": {
      "image/png": "[encoded data removed]",
      "text/plain": [
       "<Figure size 2000x1000 with 1 Axes>"
      ]
     },
     "metadata": {},
     "output_type": "display_data"
    },
    {
     "data": {
      "text/plain": [
       "<Figure size 1200x800 with 0 Axes>"
      ]
     },
     "metadata": {},
     "output_type": "display_data"
    }
   ],
   "source": [
    "#Số lượng đánh giá theo từng tỷ lệ\n",
    "sns.countplot(x='rating_score',data = df4)\n",
    "plt.title('Rating')\n",
    "plt.figure(figsize = (12,8))"
   ]
  },
  {
   "cell_type": "code",
   "execution_count": 75,
   "id": "bd50361a-a152-42af-a822-e62c7157fd75",
   "metadata": {},
   "outputs": [
    {
     "data": {
      "text/plain": [
       "<Axes: xlabel='release_year', ylabel='count'>"
      ]
     },
     "execution_count": 75,
     "metadata": {},
     "output_type": "execute_result"
    },
    {
     "data": {
      "image/png": "[encoded data removed]",
      "text/plain": [
       "<Figure size 3500x600 with 1 Axes>"
      ]
     },
     "metadata": {},
     "output_type": "display_data"
    }
   ],
   "source": [
    "#Số lượng phim ra mắt theo từng năm\n",
    "plt.figure(figsize = (35,6))\n",
    "sns.countplot(x='release_year',data = df4)"
   ]
  },
  {
   "cell_type": "code",
   "execution_count": 76,
   "id": "647f9267-2be0-4e5a-843d-be2f1202781d",
   "metadata": {},
   "outputs": [
    {
     "data": {
      "text/plain": [
       "<Axes: xlabel='rating_score', ylabel='count'>"
      ]
     },
     "execution_count": 76,
     "metadata": {},
     "output_type": "execute_result"
    },
    {
     "data": {
      "image/png": "[encoded data removed]",
      "text/plain": [
       "<Figure size 1200x800 with 1 Axes>"
      ]
     },
     "metadata": {},
     "output_type": "display_data"
    }
   ],
   "source": [
    "#Tỷ lệ đánh giá theo tưngd thể loại phim\n",
    "plt.figure(figsize = (12,8))\n",
    "sns.countplot(x='rating_score',data = df3,hue='kind')"
   ]
  },
  {
   "cell_type": "code",
   "execution_count": 83,
   "id": "b9876128-1db6-4cfc-b931-a949dcf0601f",
   "metadata": {},
   "outputs": [],
   "source": [
    "#Phân bố phim theo các nước\n",
    "import plotly.express as px "
   ]
  },
  {
   "cell_type": "code",
   "execution_count": 88,
   "id": "cead22d6-eac6-40c5-a7cb-72ee33d63540",
   "metadata": {},
   "outputs": [
    {
     "data": {
      "application/vnd.plotly.v1+json": {
       "config": {
        "plotlyServerURL": "https://plot.ly"
       },
       "data": [
        {
         "branchvalues": "total",
         "domain": {
          "x": [
           0,
           1
          ],
          "y": [
           0,
           1
          ]
         },
         "hovertemplate": "labels=%{label}<br>count=%{value}<br>parent=%{parent}<br>id=%{id}<extra></extra>",
         "ids": [
          "Hàn Quốc",
          "Thái Lan",
          "Trung Quốc",
          "other"
         ],
         "labels": [
          "Hàn Quốc",
          "Thái Lan",
          "Trung Quốc",
          "other"
         ],
         "name": "",
         "parents": [
          "",
          "",
          "",
          ""
         ],
         "type": "sunburst",
         "values": [
          11,
          4,
          34,
          1
         ]
        }
       ],
       "layout": {
        "autosize": true,
        "legend": {
         "tracegroupgap": 0
        },
        "margin": {
         "t": 60
        },
        "template": {
         "data": {
          "bar": [
           {
            "error_x": {
             "color": "#2a3f5f"
            },
            "error_y": {
             "color": "#2a3f5f"
            },
            "marker": {
             "line": {
              "color": "#E5ECF6",
              "width": 0.5
             },
             "pattern": {
              "fillmode": "overlay",
              "size": 10,
              "solidity": 0.2
             }
            },
            "type": "bar"
           }
          ],
          "barpolar": [
           {
            "marker": {
             "line": {
              "color": "#E5ECF6",
              "width": 0.5
             },
             "pattern": {
              "fillmode": "overlay",
              "size": 10,
              "solidity": 0.2
             }
            },
            "type": "barpolar"
           }
          ],
          "carpet": [
           {
            "aaxis": {
             "endlinecolor": "#2a3f5f",
             "gridcolor": "white",
             "linecolor": "white",
             "minorgridcolor": "white",
             "startlinecolor": "#2a3f5f"
            },
            "baxis": {
             "endlinecolor": "#2a3f5f",
             "gridcolor": "white",
             "linecolor": "white",
             "minorgridcolor": "white",
             "startlinecolor": "#2a3f5f"
            },
            "type": "carpet"
           }
          ],
          "choropleth": [
           {
            "colorbar": {
             "outlinewidth": 0,
             "ticks": ""
            },
            "type": "choropleth"
           }
          ],
          "contour": [
           {
            "colorbar": {
             "outlinewidth": 0,
             "ticks": ""
            },
            "colorscale": [
             [
              0,
              "#0d0887"
             ],
             [
              0.1111111111111111,
              "#46039f"
             ],
             [
              0.2222222222222222,
              "#7201a8"
             ],
             [
              0.3333333333333333,
              "#9c179e"
             ],
             [
              0.4444444444444444,
              "#bd3786"
             ],
             [
              0.5555555555555556,
              "#d8576b"
             ],
             [
              0.6666666666666666,
              "#ed7953"
             ],
             [
              0.7777777777777778,
              "#fb9f3a"
             ],
             [
              0.8888888888888888,
              "#fdca26"
             ],
             [
              1,
              "#f0f921"
             ]
            ],
            "type": "contour"
           }
          ],
          "contourcarpet": [
           {
            "colorbar": {
             "outlinewidth": 0,
             "ticks": ""
            },
            "type": "contourcarpet"
           }
          ],
          "heatmap": [
           {
            "colorbar": {
             "outlinewidth": 0,
             "ticks": ""
            },
            "colorscale": [
             [
              0,
              "#0d0887"
             ],
             [
              0.1111111111111111,
              "#46039f"
             ],
             [
              0.2222222222222222,
              "#7201a8"
             ],
             [
              0.3333333333333333,
              "#9c179e"
             ],
             [
              0.4444444444444444,
              "#bd3786"
             ],
             [
              0.5555555555555556,
              "#d8576b"
             ],
             [
              0.6666666666666666,
              "#ed7953"
             ],
             [
              0.7777777777777778,
              "#fb9f3a"
             ],
             [
              0.8888888888888888,
              "#fdca26"
             ],
             [
              1,
              "#f0f921"
             ]
            ],
            "type": "heatmap"
           }
          ],
          "heatmapgl": [
           {
            "colorbar": {
             "outlinewidth": 0,
             "ticks": ""
            },
            "colorscale": [
             [
              0,
              "#0d0887"
             ],
             [
              0.1111111111111111,
              "#46039f"
             ],
             [
              0.2222222222222222,
              "#7201a8"
             ],
             [
              0.3333333333333333,
              "#9c179e"
             ],
             [
              0.4444444444444444,
              "#bd3786"
             ],
             [
              0.5555555555555556,
              "#d8576b"
             ],
             [
              0.6666666666666666,
              "#ed7953"
             ],
             [
              0.7777777777777778,
              "#fb9f3a"
             ],
             [
              0.8888888888888888,
              "#fdca26"
             ],
             [
              1,
              "#f0f921"
             ]
            ],
            "type": "heatmapgl"
           }
          ],
          "histogram": [
           {
            "marker": {
             "pattern": {
              "fillmode": "overlay",
              "size": 10,
              "solidity": 0.2
             }
            },
            "type": "histogram"
           }
          ],
          "histogram2d": [
           {
            "colorbar": {
             "outlinewidth": 0,
             "ticks": ""
            },
            "colorscale": [
             [
              0,
              "#0d0887"
             ],
             [
              0.1111111111111111,
              "#46039f"
             ],
             [
              0.2222222222222222,
              "#7201a8"
             ],
             [
              0.3333333333333333,
              "#9c179e"
             ],
             [
              0.4444444444444444,
              "#bd3786"
             ],
             [
              0.5555555555555556,
              "#d8576b"
             ],
             [
              0.6666666666666666,
              "#ed7953"
             ],
             [
              0.7777777777777778,
              "#fb9f3a"
             ],
             [
              0.8888888888888888,
              "#fdca26"
             ],
             [
              1,
              "#f0f921"
             ]
            ],
            "type": "histogram2d"
           }
          ],
          "histogram2dcontour": [
           {
            "colorbar": {
             "outlinewidth": 0,
             "ticks": ""
            },
            "colorscale": [
             [
              0,
              "#0d0887"
             ],
             [
              0.1111111111111111,
              "#46039f"
             ],
             [
              0.2222222222222222,
              "#7201a8"
             ],
             [
              0.3333333333333333,
              "#9c179e"
             ],
             [
              0.4444444444444444,
              "#bd3786"
             ],
             [
              0.5555555555555556,
              "#d8576b"
             ],
             [
              0.6666666666666666,
              "#ed7953"
             ],
             [
              0.7777777777777778,
              "#fb9f3a"
             ],
             [
              0.8888888888888888,
              "#fdca26"
             ],
             [
              1,
              "#f0f921"
             ]
            ],
            "type": "histogram2dcontour"
           }
          ],
          "mesh3d": [
           {
            "colorbar": {
             "outlinewidth": 0,
             "ticks": ""
            },
            "type": "mesh3d"
           }
          ],
          "parcoords": [
           {
            "line": {
             "colorbar": {
              "outlinewidth": 0,
              "ticks": ""
             }
            },
            "type": "parcoords"
           }
          ],
          "pie": [
           {
            "automargin": true,
            "type": "pie"
           }
          ],
          "scatter": [
           {
            "fillpattern": {
             "fillmode": "overlay",
             "size": 10,
             "solidity": 0.2
            },
            "type": "scatter"
           }
          ],
          "scatter3d": [
           {
            "line": {
             "colorbar": {
              "outlinewidth": 0,
              "ticks": ""
             }
            },
            "marker": {
             "colorbar": {
              "outlinewidth": 0,
              "ticks": ""
             }
            },
            "type": "scatter3d"
           }
          ],
          "scattercarpet": [
           {
            "marker": {
             "colorbar": {
              "outlinewidth": 0,
              "ticks": ""
             }
            },
            "type": "scattercarpet"
           }
          ],
          "scattergeo": [
           {
            "marker": {
             "colorbar": {
              "outlinewidth": 0,
              "ticks": ""
             }
            },
            "type": "scattergeo"
           }
          ],
          "scattergl": [
           {
            "marker": {
             "colorbar": {
              "outlinewidth": 0,
              "ticks": ""
             }
            },
            "type": "scattergl"
           }
          ],
          "scattermapbox": [
           {
            "marker": {
             "colorbar": {
              "outlinewidth": 0,
              "ticks": ""
             }
            },
            "type": "scattermapbox"
           }
          ],
          "scatterpolar": [
           {
            "marker": {
             "colorbar": {
              "outlinewidth": 0,
              "ticks": ""
             }
            },
            "type": "scatterpolar"
           }
          ],
          "scatterpolargl": [
           {
            "marker": {
             "colorbar": {
              "outlinewidth": 0,
              "ticks": ""
             }
            },
            "type": "scatterpolargl"
           }
          ],
          "scatterternary": [
           {
            "marker": {
             "colorbar": {
              "outlinewidth": 0,
              "ticks": ""
             }
            },
            "type": "scatterternary"
           }
          ],
          "surface": [
           {
            "colorbar": {
             "outlinewidth": 0,
             "ticks": ""
            },
            "colorscale": [
             [
              0,
              "#0d0887"
             ],
             [
              0.1111111111111111,
              "#46039f"
             ],
             [
              0.2222222222222222,
              "#7201a8"
             ],
             [
              0.3333333333333333,
              "#9c179e"
             ],
             [
              0.4444444444444444,
              "#bd3786"
             ],
             [
              0.5555555555555556,
              "#d8576b"
             ],
             [
              0.6666666666666666,
              "#ed7953"
             ],
             [
              0.7777777777777778,
              "#fb9f3a"
             ],
             [
              0.8888888888888888,
              "#fdca26"
             ],
             [
              1,
              "#f0f921"
             ]
            ],
            "type": "surface"
           }
          ],
          "table": [
           {
            "cells": {
             "fill": {
              "color": "#EBF0F8"
             },
             "line": {
              "color": "white"
             }
            },
            "header": {
             "fill": {
              "color": "#C8D4E3"
             },
             "line": {
              "color": "white"
             }
            },
            "type": "table"
           }
          ]
         },
         "layout": {
          "annotationdefaults": {
           "arrowcolor": "#2a3f5f",
           "arrowhead": 0,
           "arrowwidth": 1
          },
          "autotypenumbers": "strict",
          "coloraxis": {
           "colorbar": {
            "outlinewidth": 0,
            "ticks": ""
           }
          },
          "colorscale": {
           "diverging": [
            [
             0,
             "#8e0152"
            ],
            [
             0.1,
             "#c51b7d"
            ],
            [
             0.2,
             "#de77ae"
            ],
            [
             0.3,
             "#f1b6da"
            ],
            [
             0.4,
             "#fde0ef"
            ],
            [
             0.5,
             "#f7f7f7"
            ],
            [
             0.6,
             "#e6f5d0"
            ],
            [
             0.7,
             "#b8e186"
            ],
            [
             0.8,
             "#7fbc41"
            ],
            [
             0.9,
             "#4d9221"
            ],
            [
             1,
             "#276419"
            ]
           ],
           "sequential": [
            [
             0,
             "#0d0887"
            ],
            [
             0.1111111111111111,
             "#46039f"
            ],
            [
             0.2222222222222222,
             "#7201a8"
            ],
            [
             0.3333333333333333,
             "#9c179e"
            ],
            [
             0.4444444444444444,
             "#bd3786"
            ],
            [
             0.5555555555555556,
             "#d8576b"
            ],
            [
             0.6666666666666666,
             "#ed7953"
            ],
            [
             0.7777777777777778,
             "#fb9f3a"
            ],
            [
             0.8888888888888888,
             "#fdca26"
            ],
            [
             1,
             "#f0f921"
            ]
           ],
           "sequentialminus": [
            [
             0,
             "#0d0887"
            ],
            [
             0.1111111111111111,
             "#46039f"
            ],
            [
             0.2222222222222222,
             "#7201a8"
            ],
            [
             0.3333333333333333,
             "#9c179e"
            ],
            [
             0.4444444444444444,
             "#bd3786"
            ],
            [
             0.5555555555555556,
             "#d8576b"
            ],
            [
             0.6666666666666666,
             "#ed7953"
            ],
            [
             0.7777777777777778,
             "#fb9f3a"
            ],
            [
             0.8888888888888888,
             "#fdca26"
            ],
            [
             1,
             "#f0f921"
            ]
           ]
          },
          "colorway": [
           "#636efa",
           "#EF553B",
           "#00cc96",
           "#ab63fa",
           "#FFA15A",
           "#19d3f3",
           "#FF6692",
           "#B6E880",
           "#FF97FF",
           "#FECB52"
          ],
          "font": {
           "color": "#2a3f5f"
          },
          "geo": {
           "bgcolor": "white",
           "lakecolor": "white",
           "landcolor": "#E5ECF6",
           "showlakes": true,
           "showland": true,
           "subunitcolor": "white"
          },
          "hoverlabel": {
           "align": "left"
          },
          "hovermode": "closest",
          "mapbox": {
           "style": "light"
          },
          "paper_bgcolor": "white",
          "plot_bgcolor": "#E5ECF6",
          "polar": {
           "angularaxis": {
            "gridcolor": "white",
            "linecolor": "white",
            "ticks": ""
           },
           "bgcolor": "#E5ECF6",
           "radialaxis": {
            "gridcolor": "white",
            "linecolor": "white",
            "ticks": ""
           }
          },
          "scene": {
           "xaxis": {
            "backgroundcolor": "#E5ECF6",
            "gridcolor": "white",
            "gridwidth": 2,
            "linecolor": "white",
            "showbackground": true,
            "ticks": "",
            "zerolinecolor": "white"
           },
           "yaxis": {
            "backgroundcolor": "#E5ECF6",
            "gridcolor": "white",
            "gridwidth": 2,
            "linecolor": "white",
            "showbackground": true,
            "ticks": "",
            "zerolinecolor": "white"
           },
           "zaxis": {
            "backgroundcolor": "#E5ECF6",
            "gridcolor": "white",
            "gridwidth": 2,
            "linecolor": "white",
            "showbackground": true,
            "ticks": "",
            "zerolinecolor": "white"
           }
          },
          "shapedefaults": {
           "line": {
            "color": "#2a3f5f"
           }
          },
          "ternary": {
           "aaxis": {
            "gridcolor": "white",
            "linecolor": "white",
            "ticks": ""
           },
           "baxis": {
            "gridcolor": "white",
            "linecolor": "white",
            "ticks": ""
           },
           "bgcolor": "#E5ECF6",
           "caxis": {
            "gridcolor": "white",
            "linecolor": "white",
            "ticks": ""
           }
          },
          "title": {
           "x": 0.05
          },
          "xaxis": {
           "automargin": true,
           "gridcolor": "white",
           "linecolor": "white",
           "ticks": "",
           "title": {
            "standoff": 15
           },
           "zerolinecolor": "white",
           "zerolinewidth": 2
          },
          "yaxis": {
           "automargin": true,
           "gridcolor": "white",
           "linecolor": "white",
           "ticks": "",
           "title": {
            "standoff": 15
           },
           "zerolinecolor": "white",
           "zerolinewidth": 2
          }
         }
        }
       }
      },
      "image/png": "[encoded data removed]",
      "text/html": [
       "<div>                            <div id=\"fe88129a-68fa-4642-84a9-6757c10f683c\" class=\"plotly-graph-div\" style=\"height:525px; width:100%;\"></div>            <script type=\"text/javascript\">                require([\"plotly\"], function(Plotly) {                    window.PLOTLYENV=window.PLOTLYENV || {};                                    if (document.getElementById(\"fe88129a-68fa-4642-84a9-6757c10f683c\")) {                    Plotly.newPlot(                        \"fe88129a-68fa-4642-84a9-6757c10f683c\",                        [{\"branchvalues\":\"total\",\"domain\":{\"x\":[0.0,1.0],\"y\":[0.0,1.0]},\"hovertemplate\":\"labels=%{label}<br>count=%{value}<br>parent=%{parent}<br>id=%{id}<extra></extra>\",\"ids\":[\"H\\u00e0n Qu\\u1ed1c\",\"Th\\u00e1i Lan\",\"Trung Qu\\u1ed1c\",\"other\"],\"labels\":[\"H\\u00e0n Qu\\u1ed1c\",\"Th\\u00e1i Lan\",\"Trung Qu\\u1ed1c\",\"other\"],\"name\":\"\",\"parents\":[\"\",\"\",\"\",\"\"],\"values\":[11,4,34,1],\"type\":\"sunburst\"}],                        {\"template\":{\"data\":{\"histogram2dcontour\":[{\"type\":\"histogram2dcontour\",\"colorbar\":{\"outlinewidth\":0,\"ticks\":\"\"},\"colorscale\":[[0.0,\"#0d0887\"],[0.1111111111111111,\"#46039f\"],[0.2222222222222222,\"#7201a8\"],[0.3333333333333333,\"#9c179e\"],[0.4444444444444444,\"#bd3786\"],[0.5555555555555556,\"#d8576b\"],[0.6666666666666666,\"#ed7953\"],[0.7777777777777778,\"#fb9f3a\"],[0.8888888888888888,\"#fdca26\"],[1.0,\"#f0f921\"]]}],\"choropleth\":[{\"type\":\"choropleth\",\"colorbar\":{\"outlinewidth\":0,\"ticks\":\"\"}}],\"histogram2d\":[{\"type\":\"histogram2d\",\"colorbar\":{\"outlinewidth\":0,\"ticks\":\"\"},\"colorscale\":[[0.0,\"#0d0887\"],[0.1111111111111111,\"#46039f\"],[0.2222222222222222,\"#7201a8\"],[0.3333333333333333,\"#9c179e\"],[0.4444444444444444,\"#bd3786\"],[0.5555555555555556,\"#d8576b\"],[0.6666666666666666,\"#ed7953\"],[0.7777777777777778,\"#fb9f3a\"],[0.8888888888888888,\"#fdca26\"],[1.0,\"#f0f921\"]]}],\"heatmap\":[{\"type\":\"heatmap\",\"colorbar\":{\"outlinewidth\":0,\"ticks\":\"\"},\"colorscale\":[[0.0,\"#0d0887\"],[0.1111111111111111,\"#46039f\"],[0.2222222222222222,\"#7201a8\"],[0.3333333333333333,\"#9c179e\"],[0.4444444444444444,\"#bd3786\"],[0.5555555555555556,\"#d8576b\"],[0.6666666666666666,\"#ed7953\"],[0.7777777777777778,\"#fb9f3a\"],[0.8888888888888888,\"#fdca26\"],[1.0,\"#f0f921\"]]}],\"heatmapgl\":[{\"type\":\"heatmapgl\",\"colorbar\":{\"outlinewidth\":0,\"ticks\":\"\"},\"colorscale\":[[0.0,\"#0d0887\"],[0.1111111111111111,\"#46039f\"],[0.2222222222222222,\"#7201a8\"],[0.3333333333333333,\"#9c179e\"],[0.4444444444444444,\"#bd3786\"],[0.5555555555555556,\"#d8576b\"],[0.6666666666666666,\"#ed7953\"],[0.7777777777777778,\"#fb9f3a\"],[0.8888888888888888,\"#fdca26\"],[1.0,\"#f0f921\"]]}],\"contourcarpet\":[{\"type\":\"contourcarpet\",\"colorbar\":{\"outlinewidth\":0,\"ticks\":\"\"}}],\"contour\":[{\"type\":\"contour\",\"colorbar\":{\"outlinewidth\":0,\"ticks\":\"\"},\"colorscale\":[[0.0,\"#0d0887\"],[0.1111111111111111,\"#46039f\"],[0.2222222222222222,\"#7201a8\"],[0.3333333333333333,\"#9c179e\"],[0.4444444444444444,\"#bd3786\"],[0.5555555555555556,\"#d8576b\"],[0.6666666666666666,\"#ed7953\"],[0.7777777777777778,\"#fb9f3a\"],[0.8888888888888888,\"#fdca26\"],[1.0,\"#f0f921\"]]}],\"surface\":[{\"type\":\"surface\",\"colorbar\":{\"outlinewidth\":0,\"ticks\":\"\"},\"colorscale\":[[0.0,\"#0d0887\"],[0.1111111111111111,\"#46039f\"],[0.2222222222222222,\"#7201a8\"],[0.3333333333333333,\"#9c179e\"],[0.4444444444444444,\"#bd3786\"],[0.5555555555555556,\"#d8576b\"],[0.6666666666666666,\"#ed7953\"],[0.7777777777777778,\"#fb9f3a\"],[0.8888888888888888,\"#fdca26\"],[1.0,\"#f0f921\"]]}],\"mesh3d\":[{\"type\":\"mesh3d\",\"colorbar\":{\"outlinewidth\":0,\"ticks\":\"\"}}],\"scatter\":[{\"fillpattern\":{\"fillmode\":\"overlay\",\"size\":10,\"solidity\":0.2},\"type\":\"scatter\"}],\"parcoords\":[{\"type\":\"parcoords\",\"line\":{\"colorbar\":{\"outlinewidth\":0,\"ticks\":\"\"}}}],\"scatterpolargl\":[{\"type\":\"scatterpolargl\",\"marker\":{\"colorbar\":{\"outlinewidth\":0,\"ticks\":\"\"}}}],\"bar\":[{\"error_x\":{\"color\":\"#2a3f5f\"},\"error_y\":{\"color\":\"#2a3f5f\"},\"marker\":{\"line\":{\"color\":\"#E5ECF6\",\"width\":0.5},\"pattern\":{\"fillmode\":\"overlay\",\"size\":10,\"solidity\":0.2}},\"type\":\"bar\"}],\"scattergeo\":[{\"type\":\"scattergeo\",\"marker\":{\"colorbar\":{\"outlinewidth\":0,\"ticks\":\"\"}}}],\"scatterpolar\":[{\"type\":\"scatterpolar\",\"marker\":{\"colorbar\":{\"outlinewidth\":0,\"ticks\":\"\"}}}],\"histogram\":[{\"marker\":{\"pattern\":{\"fillmode\":\"overlay\",\"size\":10,\"solidity\":0.2}},\"type\":\"histogram\"}],\"scattergl\":[{\"type\":\"scattergl\",\"marker\":{\"colorbar\":{\"outlinewidth\":0,\"ticks\":\"\"}}}],\"scatter3d\":[{\"type\":\"scatter3d\",\"line\":{\"colorbar\":{\"outlinewidth\":0,\"ticks\":\"\"}},\"marker\":{\"colorbar\":{\"outlinewidth\":0,\"ticks\":\"\"}}}],\"scattermapbox\":[{\"type\":\"scattermapbox\",\"marker\":{\"colorbar\":{\"outlinewidth\":0,\"ticks\":\"\"}}}],\"scatterternary\":[{\"type\":\"scatterternary\",\"marker\":{\"colorbar\":{\"outlinewidth\":0,\"ticks\":\"\"}}}],\"scattercarpet\":[{\"type\":\"scattercarpet\",\"marker\":{\"colorbar\":{\"outlinewidth\":0,\"ticks\":\"\"}}}],\"carpet\":[{\"aaxis\":{\"endlinecolor\":\"#2a3f5f\",\"gridcolor\":\"white\",\"linecolor\":\"white\",\"minorgridcolor\":\"white\",\"startlinecolor\":\"#2a3f5f\"},\"baxis\":{\"endlinecolor\":\"#2a3f5f\",\"gridcolor\":\"white\",\"linecolor\":\"white\",\"minorgridcolor\":\"white\",\"startlinecolor\":\"#2a3f5f\"},\"type\":\"carpet\"}],\"table\":[{\"cells\":{\"fill\":{\"color\":\"#EBF0F8\"},\"line\":{\"color\":\"white\"}},\"header\":{\"fill\":{\"color\":\"#C8D4E3\"},\"line\":{\"color\":\"white\"}},\"type\":\"table\"}],\"barpolar\":[{\"marker\":{\"line\":{\"color\":\"#E5ECF6\",\"width\":0.5},\"pattern\":{\"fillmode\":\"overlay\",\"size\":10,\"solidity\":0.2}},\"type\":\"barpolar\"}],\"pie\":[{\"automargin\":true,\"type\":\"pie\"}]},\"layout\":{\"autotypenumbers\":\"strict\",\"colorway\":[\"#636efa\",\"#EF553B\",\"#00cc96\",\"#ab63fa\",\"#FFA15A\",\"#19d3f3\",\"#FF6692\",\"#B6E880\",\"#FF97FF\",\"#FECB52\"],\"font\":{\"color\":\"#2a3f5f\"},\"hovermode\":\"closest\",\"hoverlabel\":{\"align\":\"left\"},\"paper_bgcolor\":\"white\",\"plot_bgcolor\":\"#E5ECF6\",\"polar\":{\"bgcolor\":\"#E5ECF6\",\"angularaxis\":{\"gridcolor\":\"white\",\"linecolor\":\"white\",\"ticks\":\"\"},\"radialaxis\":{\"gridcolor\":\"white\",\"linecolor\":\"white\",\"ticks\":\"\"}},\"ternary\":{\"bgcolor\":\"#E5ECF6\",\"aaxis\":{\"gridcolor\":\"white\",\"linecolor\":\"white\",\"ticks\":\"\"},\"baxis\":{\"gridcolor\":\"white\",\"linecolor\":\"white\",\"ticks\":\"\"},\"caxis\":{\"gridcolor\":\"white\",\"linecolor\":\"white\",\"ticks\":\"\"}},\"coloraxis\":{\"colorbar\":{\"outlinewidth\":0,\"ticks\":\"\"}},\"colorscale\":{\"sequential\":[[0.0,\"#0d0887\"],[0.1111111111111111,\"#46039f\"],[0.2222222222222222,\"#7201a8\"],[0.3333333333333333,\"#9c179e\"],[0.4444444444444444,\"#bd3786\"],[0.5555555555555556,\"#d8576b\"],[0.6666666666666666,\"#ed7953\"],[0.7777777777777778,\"#fb9f3a\"],[0.8888888888888888,\"#fdca26\"],[1.0,\"#f0f921\"]],\"sequentialminus\":[[0.0,\"#0d0887\"],[0.1111111111111111,\"#46039f\"],[0.2222222222222222,\"#7201a8\"],[0.3333333333333333,\"#9c179e\"],[0.4444444444444444,\"#bd3786\"],[0.5555555555555556,\"#d8576b\"],[0.6666666666666666,\"#ed7953\"],[0.7777777777777778,\"#fb9f3a\"],[0.8888888888888888,\"#fdca26\"],[1.0,\"#f0f921\"]],\"diverging\":[[0,\"#8e0152\"],[0.1,\"#c51b7d\"],[0.2,\"#de77ae\"],[0.3,\"#f1b6da\"],[0.4,\"#fde0ef\"],[0.5,\"#f7f7f7\"],[0.6,\"#e6f5d0\"],[0.7,\"#b8e186\"],[0.8,\"#7fbc41\"],[0.9,\"#4d9221\"],[1,\"#276419\"]]},\"xaxis\":{\"gridcolor\":\"white\",\"linecolor\":\"white\",\"ticks\":\"\",\"title\":{\"standoff\":15},\"zerolinecolor\":\"white\",\"automargin\":true,\"zerolinewidth\":2},\"yaxis\":{\"gridcolor\":\"white\",\"linecolor\":\"white\",\"ticks\":\"\",\"title\":{\"standoff\":15},\"zerolinecolor\":\"white\",\"automargin\":true,\"zerolinewidth\":2},\"scene\":{\"xaxis\":{\"backgroundcolor\":\"#E5ECF6\",\"gridcolor\":\"white\",\"linecolor\":\"white\",\"showbackground\":true,\"ticks\":\"\",\"zerolinecolor\":\"white\",\"gridwidth\":2},\"yaxis\":{\"backgroundcolor\":\"#E5ECF6\",\"gridcolor\":\"white\",\"linecolor\":\"white\",\"showbackground\":true,\"ticks\":\"\",\"zerolinecolor\":\"white\",\"gridwidth\":2},\"zaxis\":{\"backgroundcolor\":\"#E5ECF6\",\"gridcolor\":\"white\",\"linecolor\":\"white\",\"showbackground\":true,\"ticks\":\"\",\"zerolinecolor\":\"white\",\"gridwidth\":2}},\"shapedefaults\":{\"line\":{\"color\":\"#2a3f5f\"}},\"annotationdefaults\":{\"arrowcolor\":\"#2a3f5f\",\"arrowhead\":0,\"arrowwidth\":1},\"geo\":{\"bgcolor\":\"white\",\"landcolor\":\"#E5ECF6\",\"subunitcolor\":\"white\",\"showland\":true,\"showlakes\":true,\"lakecolor\":\"white\"},\"title\":{\"x\":0.05},\"mapbox\":{\"style\":\"light\"}}},\"legend\":{\"tracegroupgap\":0},\"margin\":{\"t\":60}},                        {\"responsive\": true}                    ).then(function(){\n",
       "                            \n",
       "var gd = document.getElementById('fe88129a-68fa-4642-84a9-6757c10f683c');\n",
       "var x = new MutationObserver(function (mutations, observer) {{\n",
       "        var display = window.getComputedStyle(gd).display;\n",
       "        if (!display || display === 'none') {{\n",
       "            console.log([gd, 'removed!']);\n",
       "            Plotly.purge(gd);\n",
       "            observer.disconnect();\n",
       "        }}\n",
       "}});\n",
       "\n",
       "// Listen for the removal of the full notebook cells\n",
       "var notebookContainer = gd.closest('#notebook-container');\n",
       "if (notebookContainer) {{\n",
       "    x.observe(notebookContainer, {childList: true});\n",
       "}}\n",
       "\n",
       "// Listen for the clearing of the current output cell\n",
       "var outputEl = gd.closest('.output');\n",
       "if (outputEl) {{\n",
       "    x.observe(outputEl, {childList: true});\n",
       "}}\n",
       "\n",
       "                        })                };                });            </script>        </div>"
      ]
     },
     "metadata": {},
     "output_type": "display_data"
    }
   ],
   "source": [
    "top_rated=df4[0:50]\n",
    "fig =px.sunburst(\n",
    "    top_rated,\n",
    "    path=['country'])\n",
    "fig.show()"
   ]
  },
  {
   "cell_type": "code",
   "execution_count": 91,
   "id": "87036f81-32d4-4ac8-a7bd-be14e915a38e",
   "metadata": {},
   "outputs": [
    {
     "data": {
      "text/plain": [
       "Text(0.5, 1.0, 'Top 10 thể loại phim bộ')"
      ]
     },
     "execution_count": 91,
     "metadata": {},
     "output_type": "execute_result"
    },
    {
     "data": {
      "image/png": "[encoded data removed]",
      "text/plain": [
       "<Figure size 1200x600 with 1 Axes>"
      ]
     },
     "metadata": {},
     "output_type": "display_data"
    }
   ],
   "source": [
    "plt.figure(figsize=(12,6))\n",
    "df4[df4[\"kind\"]==\"Phim bộ\"][\"genre\"].value_counts()[:10].plot(kind=\"barh\",color=\"black\")\n",
    "plt.title(\"Top 10 thể loại phim bộ\",size=18)"
   ]
  },
  {
   "cell_type": "code",
   "execution_count": 94,
   "id": "801fa151-e694-4e04-babc-2f767242b0d8",
   "metadata": {},
   "outputs": [
    {
     "data": {
      "text/plain": [
       "Text(0.5, 1.0, 'Top 10 thể loại phim lẻ')"
      ]
     },
     "execution_count": 94,
     "metadata": {},
     "output_type": "execute_result"
    },
    {
     "data": {
      "image/png": "[encoded data removed]",
      "text/plain": [
       "<Figure size 1200x600 with 1 Axes>"
      ]
     },
     "metadata": {},
     "output_type": "display_data"
    }
   ],
   "source": [
    "plt.figure(figsize=(12,6))\n",
    "df4[df4[\"kind\"]==\"Phim lẻ\"][\"genre\"].value_counts()[:10].plot(kind=\"barh\",color=\"pink\")\n",
    "plt.title(\"Top 10 thể loại phim lẻ\",size=18)"
   ]
  },
  {
   "cell_type": "code",
   "execution_count": 95,
   "id": "8c9730f5-7ef8-4852-a45e-650bfb4b1ac0",
   "metadata": {},
   "outputs": [
    {
     "data": {
      "text/plain": [
       "Text(0.5, 1.0, 'Top 10 thể loại phim hoạt hình')"
      ]
     },
     "execution_count": 95,
     "metadata": {},
     "output_type": "execute_result"
    },
    {
     "data": {
      "image/png": "[encoded data removed]",
      "text/plain": [
       "<Figure size 1200x600 with 1 Axes>"
      ]
     },
     "metadata": {},
     "output_type": "display_data"
    }
   ],
   "source": [
    "plt.figure(figsize=(12,6))\n",
    "df4[df4[\"kind\"]==\"Phim hoạt hình\"][\"genre\"].value_counts()[:10].plot(kind=\"barh\",color=\"blue\")\n",
    "plt.title(\"Top 10 thể loại phim hoạt hình\",size=18)"
   ]
  },
  {
   "cell_type": "code",
   "execution_count": null,
   "id": "a7d194fd-4f34-4eac-99b2-c66b9fe1e1b9",
   "metadata": {},
   "outputs": [],
   "source": []
  }
 ],
 "metadata": {
  "kernelspec": {
   "display_name": "Python 3 (ipykernel)",
   "language": "python",
   "name": "python3"
  },
  "language_info": {
   "codemirror_mode": {
    "name": "ipython",
    "version": 3
   },
   "file_extension": ".py",
   "mimetype": "text/x-python",
   "name": "python",
   "nbconvert_exporter": "python",
   "pygments_lexer": "ipython3",
   "version": "3.11.7"
  }
 },
 "nbformat": 4,
 "nbformat_minor": 5
}
