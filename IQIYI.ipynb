{
 "cells": [
  {
   "cell_type": "code",
   "execution_count": 1,
   "id": "5c504dfc-cd7c-40f3-bb11-ba1ea1a38bab",
   "metadata": {},
   "outputs": [
    {
     "name": "stdout",
     "output_type": "stream",
     "text": [
      "Defaulting to user installation because normal site-packages is not writeable\n",
      "Requirement already satisfied: matplotlib in f:\\installed\\anaconda3\\lib\\site-packages (3.8.0)\n",
      "Requirement already satisfied: contourpy>=1.0.1 in f:\\installed\\anaconda3\\lib\\site-packages (from matplotlib) (1.2.0)\n",
      "Requirement already satisfied: cycler>=0.10 in f:\\installed\\anaconda3\\lib\\site-packages (from matplotlib) (0.11.0)\n",
      "Requirement already satisfied: fonttools>=4.22.0 in f:\\installed\\anaconda3\\lib\\site-packages (from matplotlib) (4.25.0)\n",
      "Requirement already satisfied: kiwisolver>=1.0.1 in f:\\installed\\anaconda3\\lib\\site-packages (from matplotlib) (1.4.4)\n",
      "Requirement already satisfied: numpy<2,>=1.21 in f:\\installed\\anaconda3\\lib\\site-packages (from matplotlib) (1.26.4)\n",
      "Requirement already satisfied: packaging>=20.0 in f:\\installed\\anaconda3\\lib\\site-packages (from matplotlib) (23.1)\n",
      "Requirement already satisfied: pillow>=6.2.0 in f:\\installed\\anaconda3\\lib\\site-packages (from matplotlib) (10.2.0)\n",
      "Requirement already satisfied: pyparsing>=2.3.1 in f:\\installed\\anaconda3\\lib\\site-packages (from matplotlib) (3.0.9)\n",
      "Requirement already satisfied: python-dateutil>=2.7 in f:\\installed\\anaconda3\\lib\\site-packages (from matplotlib) (2.8.2)\n",
      "Requirement already satisfied: six>=1.5 in f:\\installed\\anaconda3\\lib\\site-packages (from python-dateutil>=2.7->matplotlib) (1.16.0)\n",
      "Note: you may need to restart the kernel to use updated packages.\n"
     ]
    }
   ],
   "source": [
    "pip install matplotlib"
   ]
  },
  {
   "cell_type": "code",
   "execution_count": 3,
   "id": "2c0b7657-d22e-4185-b4f1-9ed5c0deb0cf",
   "metadata": {},
   "outputs": [],
   "source": [
    "# Thu vien can thiet\n",
    "import pandas as pd\n",
    "import numpy as np\n",
    "import matplotlib.pyplot as plt\n",
    "%matplotlib inline\n",
    "import matplotlib\n",
    "matplotlib.rcParams[\"figure.figsize\"] = (20,10)"
   ]
  },
  {
   "cell_type": "markdown",
   "id": "cc14c804-de2d-4ae1-82e8-53cdde7cf315",
   "metadata": {},
   "source": [
    "<h1> PART 1: DATA CLEANING <h1>"
   ]
  },
  {
   "cell_type": "code",
   "execution_count": 4,
   "id": "ac72e159-f97c-4b76-ad25-0dbfa702df86",
   "metadata": {},
   "outputs": [
    {
     "data": {
      "text/html": [
       "<div>\n",
       "<style scoped>\n",
       "    .dataframe tbody tr th:only-of-type {\n",
       "        vertical-align: middle;\n",
       "    }\n",
       "\n",
       "    .dataframe tbody tr th {\n",
       "        vertical-align: top;\n",
       "    }\n",
       "\n",
       "    .dataframe thead th {\n",
       "        text-align: right;\n",
       "    }\n",
       "</style>\n",
       "<table border=\"1\" class=\"dataframe\">\n",
       "  <thead>\n",
       "    <tr style=\"text-align: right;\">\n",
       "      <th></th>\n",
       "      <th>movie_title</th>\n",
       "      <th>kind</th>\n",
       "      <th>number_of_rating</th>\n",
       "      <th>rating_score</th>\n",
       "      <th>classification</th>\n",
       "      <th>release_year</th>\n",
       "      <th>duration</th>\n",
       "      <th>country</th>\n",
       "      <th>genre</th>\n",
       "      <th>director</th>\n",
       "      <th>cast</th>\n",
       "    </tr>\n",
       "  </thead>\n",
       "  <tbody>\n",
       "    <tr>\n",
       "      <th>0</th>\n",
       "      <td>Mật Tình Thất Tâm Phần 1</td>\n",
       "      <td>Phim bộ</td>\n",
       "      <td>14000</td>\n",
       "      <td>8.4</td>\n",
       "      <td>T13</td>\n",
       "      <td>2018</td>\n",
       "      <td>12</td>\n",
       "      <td>Trung Quốc đại lục</td>\n",
       "      <td>Lãng Mạn, Tổng Tài Bá Đạo, Thành Thị, Thanh Xuân</td>\n",
       "      <td>Zhang Lu Quan</td>\n",
       "      <td>Luo Bin, Yin Ye Zi, Scarlet, 刘世龙（演员）, Ivan</td>\n",
       "    </tr>\n",
       "    <tr>\n",
       "      <th>1</th>\n",
       "      <td>【Lồng Tiếng】Cửa Hàng Tiện Lợi Saet Byul</td>\n",
       "      <td>Phim bộ</td>\n",
       "      <td>1600</td>\n",
       "      <td>9.4</td>\n",
       "      <td>T13</td>\n",
       "      <td>2020</td>\n",
       "      <td>16</td>\n",
       "      <td>Hàn Quốc</td>\n",
       "      <td>Lãng Mạn, Thành Thị, Thanh Xuân, Tiếng Việt</td>\n",
       "      <td>Myung-woo Lee</td>\n",
       "      <td>Ji Chang Wook, Kim You Jung, Angel Face, Sang-...</td>\n",
       "    </tr>\n",
       "    <tr>\n",
       "      <th>2</th>\n",
       "      <td>Sắc Xanh Lãng Mạn</td>\n",
       "      <td>Phim bộ</td>\n",
       "      <td>4800</td>\n",
       "      <td>9.3</td>\n",
       "      <td>T16</td>\n",
       "      <td>2020</td>\n",
       "      <td>14</td>\n",
       "      <td>Thái Lan</td>\n",
       "      <td>Tội Phạm, Kinh Dị, Hình Sự, Tình Bạn, Thanh Xu...</td>\n",
       "      <td>Ongart Singlumpong</td>\n",
       "      <td>Singto Prachaya Ruangroj, Namtan Tipnaree Weer...</td>\n",
       "    </tr>\n",
       "    <tr>\n",
       "      <th>3</th>\n",
       "      <td>Quy Lộ (Đường Về Nhà)</td>\n",
       "      <td>Phim bộ</td>\n",
       "      <td>56800</td>\n",
       "      <td>9.7</td>\n",
       "      <td>T13</td>\n",
       "      <td>2023</td>\n",
       "      <td>30</td>\n",
       "      <td>Trung Quốc đại lục</td>\n",
       "      <td>Lãng Mạn, Thành Thị, Hôn Nhân, Tiếng Phổ Thông...</td>\n",
       "      <td>Yu Cui Hua</td>\n",
       "      <td>BoranJing, Đàm Tùng Vận, lison, Trương Bách Gi...</td>\n",
       "    </tr>\n",
       "    <tr>\n",
       "      <th>4</th>\n",
       "      <td>Đời Sống Ngục Tù</td>\n",
       "      <td>Phim bộ</td>\n",
       "      <td>8900</td>\n",
       "      <td>9.6</td>\n",
       "      <td>T18</td>\n",
       "      <td>2017</td>\n",
       "      <td>16</td>\n",
       "      <td>Hàn Quốc</td>\n",
       "      <td>Tội Phạm, Tình Tiết, Phim Hài, Tình Bạn, Tiếng...</td>\n",
       "      <td>Shen Yuan Hao</td>\n",
       "      <td>Hae-soo Park, Jung Kyung Ho , Jung Soo Jung, J...</td>\n",
       "    </tr>\n",
       "  </tbody>\n",
       "</table>\n",
       "</div>"
      ],
      "text/plain": [
       "                               movie_title     kind  number_of_rating  \\\n",
       "0                 Mật Tình Thất Tâm Phần 1  Phim bộ             14000   \n",
       "1  【Lồng Tiếng】Cửa Hàng Tiện Lợi Saet Byul  Phim bộ              1600   \n",
       "2                        Sắc Xanh Lãng Mạn  Phim bộ              4800   \n",
       "3                    Quy Lộ (Đường Về Nhà)  Phim bộ             56800   \n",
       "4                         Đời Sống Ngục Tù  Phim bộ              8900   \n",
       "\n",
       "   rating_score classification  release_year  duration             country  \\\n",
       "0           8.4            T13          2018        12  Trung Quốc đại lục   \n",
       "1           9.4            T13          2020        16            Hàn Quốc   \n",
       "2           9.3            T16          2020        14            Thái Lan   \n",
       "3           9.7            T13          2023        30  Trung Quốc đại lục   \n",
       "4           9.6            T18          2017        16            Hàn Quốc   \n",
       "\n",
       "                                               genre            director  \\\n",
       "0   Lãng Mạn, Tổng Tài Bá Đạo, Thành Thị, Thanh Xuân       Zhang Lu Quan   \n",
       "1        Lãng Mạn, Thành Thị, Thanh Xuân, Tiếng Việt       Myung-woo Lee   \n",
       "2  Tội Phạm, Kinh Dị, Hình Sự, Tình Bạn, Thanh Xu...  Ongart Singlumpong   \n",
       "3  Lãng Mạn, Thành Thị, Hôn Nhân, Tiếng Phổ Thông...          Yu Cui Hua   \n",
       "4  Tội Phạm, Tình Tiết, Phim Hài, Tình Bạn, Tiếng...       Shen Yuan Hao   \n",
       "\n",
       "                                                cast  \n",
       "0         Luo Bin, Yin Ye Zi, Scarlet, 刘世龙（演员）, Ivan  \n",
       "1  Ji Chang Wook, Kim You Jung, Angel Face, Sang-...  \n",
       "2  Singto Prachaya Ruangroj, Namtan Tipnaree Weer...  \n",
       "3  BoranJing, Đàm Tùng Vận, lison, Trương Bách Gi...  \n",
       "4  Hae-soo Park, Jung Kyung Ho , Jung Soo Jung, J...  "
      ]
     },
     "execution_count": 4,
     "metadata": {},
     "output_type": "execute_result"
    }
   ],
   "source": [
    "df = pd.read_csv(\"dataIQIYI.csv\")\n",
    "df.head()"
   ]
  },
  {
   "cell_type": "code",
   "execution_count": 6,
   "id": "624daec5-5f7f-44d4-8bed-6904db65303b",
   "metadata": {},
   "outputs": [
    {
     "data": {
      "text/plain": [
       "(1639, 11)"
      ]
     },
     "execution_count": 6,
     "metadata": {},
     "output_type": "execute_result"
    }
   ],
   "source": [
    "#Data co bao nhieu rows, bao nhieu columns\n",
    "df.shape"
   ]
  },
  {
   "cell_type": "code",
   "execution_count": 130,
   "id": "cda6e5de-f6b9-4e24-b321-62de81b92dbe",
   "metadata": {},
   "outputs": [
    {
     "data": {
      "text/plain": [
       "Index(['movie_title', 'kind', 'number_of_rating', 'rating_score',\n",
       "       'classification', 'release_year', 'duration', 'country', 'genre',\n",
       "       'director', 'cast'],\n",
       "      dtype='object')"
      ]
     },
     "execution_count": 130,
     "metadata": {},
     "output_type": "execute_result"
    }
   ],
   "source": [
    "#Nhung columns nao\n",
    "df.columns"
   ]
  },
  {
   "cell_type": "markdown",
   "id": "147fd867-fc51-42ca-89b5-e468df83081e",
   "metadata": {},
   "source": [
    "<h3> MỖI COLUMNS CÓ NHỮNG GIÁ TRỊ GÌ <h3></h3>"
   ]
  },
  {
   "cell_type": "code",
   "execution_count": 131,
   "id": "3fbdc673-f5f9-4442-a8ec-7d64d1b92da7",
   "metadata": {},
   "outputs": [
    {
     "data": {
      "text/plain": [
       "array(['Mật Tình Thất Tâm Phần 1',\n",
       "       '【Lồng Tiếng】Cửa Hàng Tiện Lợi Saet Byul', 'Sắc Xanh Lãng Mạn',\n",
       "       ..., 'Vua Bóng Chuyền Haikyuu - Phần 3',\n",
       "       'Nghe Bảo Cô Định Tán Bố Con Tôi Mùa 4', 'Hội Trưởng Là Hầu Gái'],\n",
       "      dtype=object)"
      ]
     },
     "execution_count": 131,
     "metadata": {},
     "output_type": "execute_result"
    }
   ],
   "source": [
    "# Columns 'movie_title'\n",
    "df['movie_title'].unique()"
   ]
  },
  {
   "cell_type": "code",
   "execution_count": 14,
   "id": "b48530a8-4d68-4092-a462-d80b879d0d9b",
   "metadata": {},
   "outputs": [
    {
     "data": {
      "text/plain": [
       "array(['Phim bộ', 'Phim lẻ', 'Phim hoạt hình'], dtype=object)"
      ]
     },
     "execution_count": 14,
     "metadata": {},
     "output_type": "execute_result"
    }
   ],
   "source": [
    "# Columns 'kind'\n",
    "df['kind'].unique()"
   ]
  },
  {
   "cell_type": "code",
   "execution_count": 15,
   "id": "f8688533-7581-452b-94d5-1a21deaac45a",
   "metadata": {},
   "outputs": [
    {
     "data": {
      "text/plain": [
       "array([ 14000,   1600,   4800,  56800,   8900,   4000,  50000,  11600,\n",
       "        11000,  34000,  22000,   9600,   2000,   1400,   6200,  19100,\n",
       "         8000,  23000,  33900,  36400,   3800,   5500,   3400,  15000,\n",
       "        13000,   6000,   6500,  26000,  16900,   1500,  19600,   5100,\n",
       "         1000,  29800,   1800,  54400,   1200,   8600,  60000,   7700,\n",
       "        35300,   2700,  62700,  10400,   3000,  29000,  68000,  21000,\n",
       "        25500,   9100,  16200,  12100,  13500,  14600,  18700,  88200,\n",
       "         5400,  31100,  76800,   2600,   2100,   2400,   5000,   3300,\n",
       "         3200,   9800,  16300, 262900,   5200,   2500,  20100,  27100,\n",
       "         5700,  21800,   7300,  38600,   4700,  38000,  25300,   1300,\n",
       "        65000,  37600,   9700,  16800,  92000,  40000,  69000, 216700,\n",
       "        51000,  31000,  26300,  12300,  32600,  50200,  75000,   8800,\n",
       "        22300,   3900,  12800,   6700,  20000,   6400,  90000,  17900,\n",
       "        17000,   7900,   9000,   9200,  46000,  17600,  64400,  37000,\n",
       "        67000,  84000,  15300,   5900,   7000,   2200,  53200,   4300,\n",
       "        20300,  24000,   4400,  45300,  47000,  32000,  40200,  78000,\n",
       "        10600,  25100,   8700,   1900,  30000,  36500,  10200,  14800,\n",
       "        23500,   3600,   6100,  35000,  28500,  64099,  27900,   4600,\n",
       "         7600,  47500,   8200,  33000,  52000,  25000,  19000,  13900,\n",
       "        11100, 115100,   8400,  18400,  10300,  23800,  42100,  11700,\n",
       "        17300,  15600,  84900,   4900,   9300,  48500,  43600,   2300,\n",
       "        12000,   2800,   6600,  35600,   3500,   7500,  61100,   4200,\n",
       "        74000,  20600,  15500,  61000,  11800,   5800,   4100,   1700,\n",
       "        44400,  23900,  16000,  73000, 114300,  18000,  82000,  31700,\n",
       "         7400,  33100,  75300,   7200, 151700,  33600,  28300,   2900,\n",
       "        10500,  72500,   1100,  29600,  17100,  11500, 112300,  15200,\n",
       "        10100,  11900,  14300,  21900,  42000,  86000,  25200,  49000,\n",
       "        96000,  12200,  12900,  11300,  29100,  18900,  14200,  13700,\n",
       "         7800,  14500,  54000,  18200,   6900,   6300,  14900,  20800,\n",
       "        28800,  13800,  36000,   3100,   5600,   3700,  59000,  29200,\n",
       "        43900,   9500,  87000,  16100,  57000,  39000,  22400,  20900,\n",
       "        44300,  14100,  11400,  40100,  24100,   9400,   6800,  10000,\n",
       "        17500,  21500,  14400,  13400,  35800,   8300,  13100,   7100,\n",
       "        20500,  29300,  41700,  18100,  66000,  21400,  25900,  57400,\n",
       "        18600,  30200,  47200, 135800,  16700,  48300,  22900,  44000,\n",
       "        82400,  50700, 109800,  10900,  23300,  10700,  84700,  49200,\n",
       "        28000,  80000,  27000,   8100,  43800,  39900,  51400,   4500,\n",
       "        88000,  45000,  17700,  21200,  89000,  55000,  56000,  23600,\n",
       "        86900,  47900, 162900,  12600,  45100, 135700,  41500,  20700,\n",
       "        30400,  33400, 176000, 215900,  68900,  19700,  44500,  13200,\n",
       "        79000,  18800,  27600,  41000,  91000,  97000,  98000,  53000,\n",
       "        63000,  58000,  77000,  71000,  85000,  70000,  81000,  48000,\n",
       "        76000,  62000,  43000,  62300, 160700,  99000,  15800,  93000,\n",
       "        48700,    195,  17200,  38500,  28600,  10800,  44900,  13600,\n",
       "       141500,  54300,  42900,  42300,  52400,  26900,  58300,  55900,\n",
       "        19300,  33500], dtype=int64)"
      ]
     },
     "execution_count": 15,
     "metadata": {},
     "output_type": "execute_result"
    }
   ],
   "source": [
    "# Columns 'number_of_rating'\n",
    "df['number_of_rating'].unique()"
   ]
  },
  {
   "cell_type": "code",
   "execution_count": 24,
   "id": "16c9bb11-5359-4eba-943a-e4ce779ed4f6",
   "metadata": {},
   "outputs": [
    {
     "data": {
      "text/plain": [
       "array([ 8.4,  9.4,  9.3,  9.7,  9.6,  9.2,  9. ,  8.6,  9.1,  8. ,  9.5,\n",
       "        8.2,  8.8,  8.5,  8.7,  8.9,  7.6,  9.8,  9.9,  8.1,  7.8,  7.9,\n",
       "       10. ,  8.3,  7.7,  7.3,  7.2,  6.5,  7.1,  7.5,  6. ,  6.2,  6.8,\n",
       "        7.4,  7. ,  6.7])"
      ]
     },
     "execution_count": 24,
     "metadata": {},
     "output_type": "execute_result"
    }
   ],
   "source": [
    "#Columns 'rating_score'\n",
    "df['rating_score'].unique()"
   ]
  },
  {
   "cell_type": "code",
   "execution_count": 26,
   "id": "f3d75a6e-1b09-41cd-989c-c261d51800bf",
   "metadata": {},
   "outputs": [
    {
     "data": {
      "text/plain": [
       "array(['Lãng Mạn, Tổng Tài Bá Đạo, Thành Thị, Thanh Xuân',\n",
       "       'Lãng Mạn, Thành Thị, Thanh Xuân, Tiếng Việt',\n",
       "       'Tội Phạm, Kinh Dị, Hình Sự, Tình Bạn, Thanh Xuân, Gia Đình', ...,\n",
       "       'Tiếng Nhật, Trường Học',\n",
       "       'Tiếng Nhật, Cảm Hứng, Khoa Học Viễn Tưởng',\n",
       "       'Thiếu niên, Tiếng Nhật, Viễn Tưởng, Nhiệt Huyết, Tình Yêu, Tiểu thuyết ngắn cải biên'],\n",
       "      dtype=object)"
      ]
     },
     "execution_count": 26,
     "metadata": {},
     "output_type": "execute_result"
    }
   ],
   "source": [
    "#Columns 'genre'\n",
    "df['genre'].unique()"
   ]
  },
  {
   "cell_type": "code",
   "execution_count": 5,
   "id": "a48b7300-c5ee-4616-8694-de2bc3de5ad4",
   "metadata": {},
   "outputs": [
    {
     "data": {
      "text/plain": [
       "array(['T13', 'T16', 'T18', 'P', 'K'], dtype=object)"
      ]
     },
     "execution_count": 5,
     "metadata": {},
     "output_type": "execute_result"
    }
   ],
   "source": [
    "#Columns 'classification'\n",
    "df['classification'].unique()"
   ]
  },
  {
   "cell_type": "code",
   "execution_count": 6,
   "id": "1cb59e39",
   "metadata": {},
   "outputs": [
    {
     "data": {
      "text/plain": [
       "array([2018, 2020, 2023, 2017, 2016, 2019, 2015, 2024, 2022, 2009, 2021,\n",
       "       2013, 2012, 2011, 2014, 2010, 2004, 2008, 2005, 2006, 1991, 1984,\n",
       "       1976, 1975, 1959, 1999, 2007, 1987, 1988, 1974, 1995, 1990, 1996,\n",
       "       1972, 1992, 1993, 1983, 1994, 2002, 2003, 1982, 1997, 2000, 2001,\n",
       "       1985, 1977, 1986, 1979, 1989], dtype=int64)"
      ]
     },
     "execution_count": 6,
     "metadata": {},
     "output_type": "execute_result"
    }
   ],
   "source": [
    "#Columns 'release_year'\n",
    "df['release_year'].unique()"
   ]
  },
  {
   "cell_type": "code",
   "execution_count": 141,
   "id": "7e297e51",
   "metadata": {},
   "outputs": [
    {
     "data": {
      "text/plain": [
       "array(['Trung Quốc đại lục', 'Hàn Quốc', 'Thái Lan', 'Malaysia',\n",
       "       'Đài Loan', 'Nhật Bản', 'Philippines', 'Mỹ', 'Anh', 'Hồng Kông'],\n",
       "      dtype=object)"
      ]
     },
     "execution_count": 141,
     "metadata": {},
     "output_type": "execute_result"
    }
   ],
   "source": [
    "#Columns 'country'\n",
    "df['country'].unique()"
   ]
  },
  {
   "cell_type": "markdown",
   "id": "6af64437-9aa2-4cca-9907-65ae09680661",
   "metadata": {},
   "source": [
    "<h3> DATA CLEANING: XÓA CÁC TỪ KHÓA NGÔN NGỮ Ở CỘT GENRE & XỬ LÝ CÁC GIÁ TRỊ NA <h3>"
   ]
  },
  {
   "cell_type": "code",
   "execution_count": 5,
   "id": "9fda06c7-e4db-4fc0-bf0b-0d196f999cba",
   "metadata": {},
   "outputs": [],
   "source": [
    "#Xóa các từ khóa ngôn ngữ ở cột genre\n",
    "df['genre'] = df['genre'].str.replace(r'(Thái Lan|Tiếng Việt|Tiếng Hàn|Tiếng Thái|Tiếng Mã Lai|Tiếng Phổ Thông|Tiếng Nhật|Tiếng Philippines|Tiếng Anh|Tiếng Hồng Kông|Tiếng Quảng Đông)', '', regex=True)\n",
    "df['genre'] = df['genre'].str.replace(r'(\\s*,\\s*,\\s*)', ', ', regex=True)  # Xóa một trong hai dấu ',' liên tiếp và khoảng trắng xung quanh\n",
    "df['genre'] = df['genre'].str.strip(', ')  # Xóa dấu ',' và khoảng trắng ở đầu và cuối chuỗi\n",
    "df.to_csv(\"dataIQIYI.csv\")"
   ]
  },
  {
   "cell_type": "code",
   "execution_count": 6,
   "id": "26352179-1f3e-4817-84a1-66fca027a5ca",
   "metadata": {},
   "outputs": [],
   "source": [
    "#Đổi tên dataframe mới, Thêm index_col = 0 để chỉ định cột index cụ thể khi đọc và không tạo infex mới khi đọc file\n",
    "df1 = pd.read_csv(\"dataIQIYI.csv\", index_col=0)"
   ]
  },
  {
   "cell_type": "code",
   "execution_count": 7,
   "id": "41f6c5ec-d564-4b34-bfab-3b822e9cd809",
   "metadata": {},
   "outputs": [
    {
     "data": {
      "text/plain": [
       "(1639, 11)"
      ]
     },
     "execution_count": 7,
     "metadata": {},
     "output_type": "execute_result"
    }
   ],
   "source": [
    "#Xem số dòng, số cột trước khi xóa\n",
    "df1.shape"
   ]
  },
  {
   "cell_type": "code",
   "execution_count": 8,
   "id": "c704bb3a-edda-4816-8d60-5baf272c1c4c",
   "metadata": {},
   "outputs": [
    {
     "data": {
      "text/plain": [
       "(1622, 11)"
      ]
     },
     "execution_count": 8,
     "metadata": {},
     "output_type": "execute_result"
    }
   ],
   "source": [
    "df1 = df1.dropna(subset = ['genre']) #Xóa các dòng null ở cột genre\n",
    "df1.to_csv(\"dataIQIYI.csv\") \n",
    "#Xem số dòng, số cột sau khi xóa\n",
    "df1.shape"
   ]
  },
  {
   "cell_type": "markdown",
   "id": "cfe42a50-89d2-4d63-a154-ed8d5de33512",
   "metadata": {},
   "source": [
    "<h3> XỬ LÝ GIÁ TRỊ DUPLICATE <h3>"
   ]
  },
  {
   "cell_type": "code",
   "execution_count": 9,
   "id": "04e18c0a-f830-4c43-aeec-bed0a3ef85a2",
   "metadata": {},
   "outputs": [
    {
     "data": {
      "text/plain": [
       "(1622, 11)"
      ]
     },
     "execution_count": 9,
     "metadata": {},
     "output_type": "execute_result"
    }
   ],
   "source": [
    "df2 = df1.copy()\n",
    "#Xem số dòng, số cột trước khi xóa\n",
    "df2.shape"
   ]
  },
  {
   "cell_type": "code",
   "execution_count": 11,
   "id": "57da4df1",
   "metadata": {},
   "outputs": [
    {
     "data": {
      "text/plain": [
       "(1611, 11)"
      ]
     },
     "execution_count": 11,
     "metadata": {},
     "output_type": "execute_result"
    }
   ],
   "source": [
    "#Xóa các dòng duplicates\n",
    "df2.drop_duplicates(inplace=True)\n",
    "df2.shape #xem lại số dòng, số cột sau khi xóa"
   ]
  },
  {
   "cell_type": "code",
   "execution_count": 12,
   "id": "1e83abcc-9036-47b1-8465-dbc3a319645f",
   "metadata": {},
   "outputs": [],
   "source": [
    "#Thay thế \"Trung Quốc đại lục\" ở cột country thành \"Trung Quốc\"\n",
    "df2['country'] = df2['country'].str.replace(r'(Trung Quốc đại lục)', 'Trung Quốc',regex = True)\n",
    "df2.to_csv(\"dataIQIYI.csv\") "
   ]
  },
  {
   "cell_type": "markdown",
   "id": "7fd6bc30-c57b-4159-b89c-c00273e3e115",
   "metadata": {},
   "source": [
    "<h3> GIẢM CHIỀU DỮ LIỆU <h3>"
   ]
  },
  {
   "cell_type": "code",
   "execution_count": 231,
   "id": "2469844f-3b09-4a5a-8980-6716e7cd1cb3",
   "metadata": {},
   "outputs": [],
   "source": [
    "df3 = pd.read_csv(\"dataIQIYI.csv\", index_col=0)"
   ]
  },
  {
   "cell_type": "code",
   "execution_count": null,
   "id": "ff861b21-24a4-4c8c-bb99-4b83b483d5ac",
   "metadata": {},
   "outputs": [],
   "source": [
    "#Hiiiii"
   ]
  }
 ],
 "metadata": {
  "kernelspec": {
   "display_name": "Python 3 (ipykernel)",
   "language": "python",
   "name": "python3"
  },
  "language_info": {
   "codemirror_mode": {
    "name": "ipython",
    "version": 3
   },
   "file_extension": ".py",
   "mimetype": "text/x-python",
   "name": "python",
   "nbconvert_exporter": "python",
   "pygments_lexer": "ipython3",
   "version": "3.11.7"
  }
 },
 "nbformat": 4,
 "nbformat_minor": 5
}
