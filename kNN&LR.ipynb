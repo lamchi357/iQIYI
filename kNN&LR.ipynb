{
 "cells": [
  {
   "cell_type": "code",
   "execution_count": 63,
   "metadata": {
    "id": "QXJ68E6QdsVm"
   },
   "outputs": [],
   "source": [
    "import matplotlib.pyplot as plt\n",
    "from sklearn.model_selection import train_test_split\n",
    "from sklearn.linear_model import LogisticRegression\n",
    "from sklearn.metrics import accuracy_score, classification_report\n",
    "from sklearn.metrics import confusion_matrix, roc_curve, auc\n",
    "from sklearn.metrics import ConfusionMatrixDisplay\n",
    "from sklearn.metrics import precision_score, recall_score, f1_score"
   ]
  },
  {
   "cell_type": "code",
   "execution_count": 40,
   "metadata": {
    "id": "J-Hk8xPFe80M"
   },
   "outputs": [],
   "source": [
    "df = pd.read_csv(\"dataIQIYI-Copy1.csv\")"
   ]
  },
  {
   "cell_type": "code",
   "execution_count": 41,
   "metadata": {
    "colab": {
     "base_uri": "https://localhost:8080/"
    },
    "id": "rsb_c--VvJjO",
    "outputId": "4d319821-4b97-4311-84cb-29a7cc67cb52"
   },
   "outputs": [
    {
     "name": "stdout",
     "output_type": "stream",
     "text": [
      "Nhãn tương ứng:\n",
      "0: 0\n",
      "1: 1\n"
     ]
    }
   ],
   "source": [
    "# Chuyển đổi nhãn về dạng số\n",
    "#label_encoder = LabelEncoder()\n",
    "#df['Hot'] = label_encoder.fit_transform(df['Hot'])\n",
    "\n",
    "# Chọn các đặc điểm để dự đoán HOT\n",
    "X = df[['number_of_rating', 'rating_score', 'Lãng Mạn', 'Tình Tiết', 'Thanh Xuân', 'Thành Thị', 'Viễn Tưởng', 'Phim Hài', 'Bí Ẩn', 'Hành Động', 'Cổ Trang', 'Tình Bạn', 'Phiêu Lưu', 'Tội Phạm', 'Tình Yêu Ngọt Ngào', 'Gia Đình', 'Nhiệt Huyết', 'Kinh Dị', 'Tiểu Thuyết Chuyển Thể', 'Other']].values\n",
    "y = df['hot'].values\n",
    "# Chuyển đổi nhãn về dạng số\n",
    "#\n",
    "le = LabelEncoder()\n",
    "y = le.fit_transform(df['hot'])\n",
    "print(\"Nhãn tương ứng:\")\n",
    "for label, class_name in enumerate(le.classes_):\n",
    "    print(f\"{label}: {class_name}\")\n",
    "# Chia dữ liệu thành tập huấn luyện và tập kiểm tra\n",
    "X_train, X_test, y_train, y_test = train_test_split(X, y, test_size=0.2, random_state=42)"
   ]
  },
  {
   "cell_type": "code",
   "execution_count": 42,
   "metadata": {
    "id": "J-Hk8xPFe80M"
   },
   "outputs": [
    {
     "name": "stdout",
     "output_type": "stream",
     "text": [
      "Accuracy: 0.9285714285714286\n",
      "\n",
      "Classification Report:\n",
      "               precision    recall  f1-score   support\n",
      "\n",
      "           0       0.95      0.97      0.96       283\n",
      "           1       0.75      0.62      0.68        39\n",
      "\n",
      "    accuracy                           0.93       322\n",
      "   macro avg       0.85      0.79      0.82       322\n",
      "weighted avg       0.92      0.93      0.93       322\n",
      "\n"
     ]
    }
   ],
   "source": [
    "# Chuẩn hóa dữ liệu\n",
    "scaler = StandardScaler()\n",
    "X_train = scaler.fit_transform(X_train)\n",
    "X_test = scaler.transform(X_test)\n",
    "\n",
    "# Tạo mô hình k-NN với k = 3\n",
    "knn = KNeighborsClassifier(n_neighbors=3)\n",
    "\n",
    "# Huấn luyện mô hình\n",
    "knn.fit(X_train, y_train)\n",
    "\n",
    "# Dự đoán nhãn của các mẫu trong tập kiểm tra\n",
    "y_pred = knn.predict(X_test)\n",
    "\n",
    "# Đánh giá mô hình\n",
    "print(\"Accuracy:\", accuracy_score(y_test, y_pred))\n",
    "print(\"\\nClassification Report:\\n\", classification_report(y_test, y_pred))\n"
   ]
  },
  {
   "cell_type": "code",
   "execution_count": 43,
   "metadata": {},
   "outputs": [
    {
     "data": {
      "text/html": [
       "<div>\n",
       "<style scoped>\n",
       "    .dataframe tbody tr th:only-of-type {\n",
       "        vertical-align: middle;\n",
       "    }\n",
       "\n",
       "    .dataframe tbody tr th {\n",
       "        vertical-align: top;\n",
       "    }\n",
       "\n",
       "    .dataframe thead th {\n",
       "        text-align: right;\n",
       "    }\n",
       "</style>\n",
       "<table border=\"1\" class=\"dataframe\">\n",
       "  <thead>\n",
       "    <tr style=\"text-align: right;\">\n",
       "      <th></th>\n",
       "      <th>Predictions</th>\n",
       "    </tr>\n",
       "  </thead>\n",
       "  <tbody>\n",
       "    <tr>\n",
       "      <th>0</th>\n",
       "      <td>0</td>\n",
       "    </tr>\n",
       "    <tr>\n",
       "      <th>1</th>\n",
       "      <td>0</td>\n",
       "    </tr>\n",
       "    <tr>\n",
       "      <th>2</th>\n",
       "      <td>1</td>\n",
       "    </tr>\n",
       "    <tr>\n",
       "      <th>3</th>\n",
       "      <td>0</td>\n",
       "    </tr>\n",
       "    <tr>\n",
       "      <th>4</th>\n",
       "      <td>0</td>\n",
       "    </tr>\n",
       "    <tr>\n",
       "      <th>...</th>\n",
       "      <td>...</td>\n",
       "    </tr>\n",
       "    <tr>\n",
       "      <th>317</th>\n",
       "      <td>0</td>\n",
       "    </tr>\n",
       "    <tr>\n",
       "      <th>318</th>\n",
       "      <td>0</td>\n",
       "    </tr>\n",
       "    <tr>\n",
       "      <th>319</th>\n",
       "      <td>0</td>\n",
       "    </tr>\n",
       "    <tr>\n",
       "      <th>320</th>\n",
       "      <td>0</td>\n",
       "    </tr>\n",
       "    <tr>\n",
       "      <th>321</th>\n",
       "      <td>0</td>\n",
       "    </tr>\n",
       "  </tbody>\n",
       "</table>\n",
       "<p>322 rows × 1 columns</p>\n",
       "</div>"
      ],
      "text/plain": [
       "     Predictions\n",
       "0              0\n",
       "1              0\n",
       "2              1\n",
       "3              0\n",
       "4              0\n",
       "..           ...\n",
       "317            0\n",
       "318            0\n",
       "319            0\n",
       "320            0\n",
       "321            0\n",
       "\n",
       "[322 rows x 1 columns]"
      ]
     },
     "execution_count": 43,
     "metadata": {},
     "output_type": "execute_result"
    }
   ],
   "source": [
    "#y_pred\n",
    "df_predictions = pd.DataFrame(y_pred, columns=['Predictions'])\n",
    "df_predictions"
   ]
  },
  {
   "cell_type": "code",
   "execution_count": 58,
   "metadata": {
    "id": "Pwy2B1zOluGx"
   },
   "outputs": [
    {
     "data": {
      "text/plain": [
       "<Figure size 800x600 with 0 Axes>"
      ]
     },
     "metadata": {},
     "output_type": "display_data"
    },
    {
     "data": {
      "image/png": "[encoded data removed]",
      "text/plain": [
       "<Figure size 640x480 with 2 Axes>"
      ]
     },
     "metadata": {},
     "output_type": "display_data"
    }
   ],
   "source": [
    "# Confusion matrix\n",
    "conf_mat = confusion_matrix(y_test, y_pred)\n",
    "plt.figure(figsize=(8, 6))\n",
    "ConfusionMatrixDisplay(confusion_matrix=conf_mat, display_labels=knn.classes_).plot(cmap=plt.cm.Blues, values_format='.2f')\n",
    "plt.title('Confusion Matrix')\n",
    "plt.show()"
   ]
  },
  {
   "cell_type": "code",
   "execution_count": 46,
   "metadata": {},
   "outputs": [],
   "source": [
    "data = pd.read_csv(\"dataIQIYI-Copy1.csv\")"
   ]
  },
  {
   "cell_type": "code",
   "execution_count": 49,
   "metadata": {},
   "outputs": [
    {
     "name": "stdout",
     "output_type": "stream",
     "text": [
      "Accuracy: 0.9968944099378882\n",
      "Classification Report:\n",
      "              precision    recall  f1-score   support\n",
      "\n",
      "           0       1.00      1.00      1.00       283\n",
      "           1       0.97      1.00      0.99        39\n",
      "\n",
      "    accuracy                           1.00       322\n",
      "   macro avg       0.99      1.00      0.99       322\n",
      "weighted avg       1.00      1.00      1.00       322\n",
      "\n"
     ]
    }
   ],
   "source": [
    "# Assuming X contains your features and y contains your binary labels\n",
    "X2 = data[['number_of_rating', 'rating_score']]\n",
    "y2 = data['hot']\n",
    "\n",
    "# Split data into training and testing sets\n",
    "X2_train, X2_test, y2_train, y2_test = train_test_split(X2, y2, test_size=0.2, random_state=42)\n",
    "\n",
    "# Train logistic regression model\n",
    "log_reg = LogisticRegression()\n",
    "log_reg.fit(X2_train, y2_train)\n",
    "\n",
    "# Predict labels for test set\n",
    "y2_pred = log_reg.predict(X2_test)\n",
    "\n",
    "# Evaluate model\n",
    "accuracy = accuracy_score(y2_test, y2_pred)\n",
    "print(\"Accuracy:\", accuracy)\n",
    "\n",
    "# Print classification report for more detailed evaluation\n",
    "print(\"Classification Report:\")\n",
    "print(classification_report(y2_test, y2_pred))"
   ]
  },
  {
   "cell_type": "code",
   "execution_count": 61,
   "metadata": {},
   "outputs": [
    {
     "data": {
      "text/html": [
       "<div>\n",
       "<style scoped>\n",
       "    .dataframe tbody tr th:only-of-type {\n",
       "        vertical-align: middle;\n",
       "    }\n",
       "\n",
       "    .dataframe tbody tr th {\n",
       "        vertical-align: top;\n",
       "    }\n",
       "\n",
       "    .dataframe thead th {\n",
       "        text-align: right;\n",
       "    }\n",
       "</style>\n",
       "<table border=\"1\" class=\"dataframe\">\n",
       "  <thead>\n",
       "    <tr style=\"text-align: right;\">\n",
       "      <th></th>\n",
       "      <th>Predictions</th>\n",
       "    </tr>\n",
       "  </thead>\n",
       "  <tbody>\n",
       "    <tr>\n",
       "      <th>0</th>\n",
       "      <td>0</td>\n",
       "    </tr>\n",
       "    <tr>\n",
       "      <th>1</th>\n",
       "      <td>0</td>\n",
       "    </tr>\n",
       "    <tr>\n",
       "      <th>2</th>\n",
       "      <td>1</td>\n",
       "    </tr>\n",
       "    <tr>\n",
       "      <th>3</th>\n",
       "      <td>0</td>\n",
       "    </tr>\n",
       "    <tr>\n",
       "      <th>4</th>\n",
       "      <td>0</td>\n",
       "    </tr>\n",
       "    <tr>\n",
       "      <th>...</th>\n",
       "      <td>...</td>\n",
       "    </tr>\n",
       "    <tr>\n",
       "      <th>317</th>\n",
       "      <td>0</td>\n",
       "    </tr>\n",
       "    <tr>\n",
       "      <th>318</th>\n",
       "      <td>0</td>\n",
       "    </tr>\n",
       "    <tr>\n",
       "      <th>319</th>\n",
       "      <td>0</td>\n",
       "    </tr>\n",
       "    <tr>\n",
       "      <th>320</th>\n",
       "      <td>0</td>\n",
       "    </tr>\n",
       "    <tr>\n",
       "      <th>321</th>\n",
       "      <td>0</td>\n",
       "    </tr>\n",
       "  </tbody>\n",
       "</table>\n",
       "<p>322 rows × 1 columns</p>\n",
       "</div>"
      ],
      "text/plain": [
       "     Predictions\n",
       "0              0\n",
       "1              0\n",
       "2              1\n",
       "3              0\n",
       "4              0\n",
       "..           ...\n",
       "317            0\n",
       "318            0\n",
       "319            0\n",
       "320            0\n",
       "321            0\n",
       "\n",
       "[322 rows x 1 columns]"
      ]
     },
     "execution_count": 61,
     "metadata": {},
     "output_type": "execute_result"
    }
   ],
   "source": [
    "#y_pred\n",
    "data_predictions = pd.DataFrame(y2_pred, columns=['Predictions'])\n",
    "data_predictions"
   ]
  },
  {
   "cell_type": "code",
   "execution_count": 57,
   "metadata": {},
   "outputs": [
    {
     "data": {
      "image/png": "[encoded data removed]",
      "text/plain": [
       "<Figure size 800x600 with 2 Axes>"
      ]
     },
     "metadata": {},
     "output_type": "display_data"
    }
   ],
   "source": [
    "# Plot confusion matrix for Logistic Regression\n",
    "y2_pred_log_reg = log_reg.predict(X2_test)\n",
    "conf_mat_log_reg = confusion_matrix(y2_test, y2_pred_log_reg)\n",
    "\n",
    "plt.figure(figsize=(8, 6))\n",
    "plt.imshow(conf_mat_log_reg, cmap=plt.cm.Blues, interpolation='nearest')\n",
    "\n",
    "# Add text annotations\n",
    "for i in range(conf_mat_log_reg.shape[0]):\n",
    "    for j in range(conf_mat_log_reg.shape[1]):\n",
    "        plt.text(j, i, conf_mat_log_reg[i, j], horizontalalignment='center', color='green')\n",
    "\n",
    "plt.title('Logistic Regression Confusion Matrix')\n",
    "plt.colorbar()\n",
    "plt.xlabel('Predicted Label')\n",
    "plt.ylabel('True Label')\n",
    "plt.show()"
   ]
  },
  {
   "cell_type": "code",
   "execution_count": 64,
   "metadata": {},
   "outputs": [
    {
     "name": "stdout",
     "output_type": "stream",
     "text": [
      "                 Model  Accuracy  Precision    Recall  F1-score\n",
      "0                  kNN  0.928571      0.750  0.615385  0.676056\n",
      "1  Logistic Regression  0.996894      0.975  1.000000  0.987342\n"
     ]
    }
   ],
   "source": [
    "# Calculate precision, recall, and F1-score for kNN\n",
    "precision_knn = precision_score(y_test, y_pred_knn)\n",
    "recall_knn = recall_score(y_test, y_pred_knn)\n",
    "f1_knn = f1_score(y_test, y_pred_knn)\n",
    "\n",
    "# Calculate precision, recall, and F1-score for Logistic Regression\n",
    "precision_log_reg = precision_score(y2_test, y2_pred_log_reg)\n",
    "recall_log_reg = recall_score(y2_test, y2_pred_log_reg)\n",
    "f1_log_reg = f1_score(y2_test, y2_pred_log_reg)\n",
    "\n",
    "# Create a DataFrame for comparison\n",
    "data = {\n",
    "    'Model': ['kNN', 'Logistic Regression'],\n",
    "    'Accuracy': [accuracy_knn, accuracy_log_reg],\n",
    "    'Precision': [precision_knn, precision_log_reg],\n",
    "    'Recall': [recall_knn, recall_log_reg],\n",
    "    'F1-score': [f1_knn, f1_log_reg]\n",
    "}\n",
    "\n",
    "comparison_df = pd.DataFrame(data)\n",
    "\n",
    "# Print the comparison table\n",
    "print(comparison_df)\n"
   ]
  }
 ],
 "metadata": {
  "colab": {
   "provenance": []
  },
  "kernelspec": {
   "display_name": "Python 3 (ipykernel)",
   "language": "python",
   "name": "python3"
  },
  "language_info": {
   "codemirror_mode": {
    "name": "ipython",
    "version": 3
   },
   "file_extension": ".py",
   "mimetype": "text/x-python",
   "name": "python",
   "nbconvert_exporter": "python",
   "pygments_lexer": "ipython3",
   "version": "3.11.7"
  }
 },
 "nbformat": 4,
 "nbformat_minor": 4
}
